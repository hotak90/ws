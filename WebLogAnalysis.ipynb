{
 "cells": [
  {
   "cell_type": "code",
   "execution_count": null,
   "metadata": {},
   "outputs": [],
   "source": [
    "import numpy\n",
    "import pandas as pd\n",
    "import folium\n",
    "import socket; import struct"
   ]
  },
  {
   "cell_type": "code",
   "execution_count": null,
   "metadata": {},
   "outputs": [],
   "source": [
    "db = pd.read_csv('data/IP2LOCATION-LITE-DB5.CSV')"
   ]
  },
  {
   "cell_type": "code",
   "execution_count": null,
   "metadata": {},
   "outputs": [],
   "source": [
    "db.columns = ['시작주소', '끝주소', '국가코드', '국가명', '시도', '시군구', '위도', '경도']"
   ]
  },
  {
   "cell_type": "code",
   "execution_count": null,
   "metadata": {},
   "outputs": [],
   "source": [
    "db.shape"
   ]
  },
  {
   "cell_type": "code",
   "execution_count": null,
   "metadata": {},
   "outputs": [],
   "source": [
    "db.dtypes"
   ]
  },
  {
   "cell_type": "code",
   "execution_count": null,
   "metadata": {},
   "outputs": [],
   "source": [
    "db.head()"
   ]
  },
  {
   "cell_type": "code",
   "execution_count": null,
   "metadata": {},
   "outputs": [],
   "source": [
    "def ip2int(ip_addr):\n",
    "    return struct.unpack('!I', socket.inet_aton(ip_addr))[0]"
   ]
  },
  {
   "cell_type": "code",
   "execution_count": null,
   "metadata": {},
   "outputs": [],
   "source": [
    "ip = ip2int('182.252.9.227')\n",
    "loc = db[(db['시작주소'] <= ip) & (db['끝주소']>=ip)]\n",
    "loc['위도'].values[0]"
   ]
  },
  {
   "cell_type": "code",
   "execution_count": null,
   "metadata": {},
   "outputs": [],
   "source": [
    "map = folium.Map(location=[loc['위도'].values[0], loc['경도'].values[0]])\n",
    "\n",
    "folium.Marker(\n",
    "    location=[loc['위도'].values[0], loc['경도'].values[0]],\n",
    "    popup='203.245.160.72'\n",
    ").add_to(map)\n",
    "\n",
    "map\n"
   ]
  },
  {
   "cell_type": "code",
   "execution_count": null,
   "metadata": {},
   "outputs": [],
   "source": [
    "dscweb_ips = pd.read_csv('data/dscweb_ip.csv', sep='\\t')\n",
    "dscweb_ips.head()"
   ]
  },
  {
   "cell_type": "code",
   "execution_count": null,
   "metadata": {},
   "outputs": [],
   "source": [
    "dscweb_ips['hits'] = dscweb_ips['hits'].str.replace(',','').astype(int)"
   ]
  },
  {
   "cell_type": "code",
   "execution_count": null,
   "metadata": {},
   "outputs": [],
   "source": [
    "dscweb_ips['ip_int'] = dscweb_ips['ip'].apply(ip2int)\n",
    "#dscweb_ips = dscweb_ips[dscweb_ips['ip_int']<1000]"
   ]
  },
  {
   "cell_type": "code",
   "execution_count": null,
   "metadata": {},
   "outputs": [],
   "source": [
    "def find_lat(ip):\n",
    "    found = db[(db['시작주소'] <= ip) & (db['끝주소'] >= ip)]\n",
    "    return found['위도'].values[0]\n",
    "\n",
    "def find_alt(ip):\n",
    "    found = db[(db['시작주소'] <= ip) & (db['끝주소'] >= ip)]\n",
    "    return found['경도'].values[0]"
   ]
  },
  {
   "cell_type": "code",
   "execution_count": null,
   "metadata": {},
   "outputs": [],
   "source": [
    "dscweb_ips['위도'] = dscweb_ips['ip_int'].apply(find_lat)\n",
    "dscweb_ips['경도'] = dscweb_ips['ip_int'].apply(find_alt)"
   ]
  },
  {
   "cell_type": "code",
   "execution_count": null,
   "metadata": {},
   "outputs": [],
   "source": [
    "dscweb_ips.dtypes"
   ]
  },
  {
   "cell_type": "code",
   "execution_count": null,
   "metadata": {},
   "outputs": [],
   "source": [
    "map = folium.Map(location=[dscweb_ips['위도'].median(), dscweb_ips['경도'].median()])\n",
    "\n",
    "for n in dscweb_ips.index:\n",
    "    folium.Marker(\n",
    "        location=[dscweb_ips.loc[n,'위도'], dscweb_ips.loc[n, '경도']]\n",
    "    ).add_to(map)\n",
    "\n",
    "map"
   ]
  },
  {
   "cell_type": "code",
   "execution_count": null,
   "metadata": {},
   "outputs": [],
   "source": [
    "dscweb_ips.head()"
   ]
  },
  {
   "cell_type": "code",
   "execution_count": null,
   "metadata": {},
   "outputs": [],
   "source": [
    "dscweb_ips.columns"
   ]
  },
  {
   "cell_type": "code",
   "execution_count": null,
   "metadata": {},
   "outputs": [],
   "source": [
    "from plotnine import *\n",
    "import matplotlib as mpl\n",
    "mpl.rcParams['font.family']='D2Coding'"
   ]
  },
  {
   "cell_type": "code",
   "execution_count": null,
   "metadata": {},
   "outputs": [],
   "source": [
    "(ggplot(dscweb_ips)\n",
    " + aes(x='위도', y='경도', color='ip', size='hits')\n",
    " + geom_point()\n",
    ")"
   ]
  },
  {
   "cell_type": "code",
   "execution_count": null,
   "metadata": {},
   "outputs": [],
   "source": []
  },
  {
   "cell_type": "code",
   "execution_count": null,
   "metadata": {},
   "outputs": [],
   "source": []
  },
  {
   "cell_type": "markdown",
   "metadata": {},
   "source": []
  }
 ],
 "metadata": {
  "kernelspec": {
   "display_name": "Python 3",
   "language": "python",
   "name": "python3"
  },
  "language_info": {
   "codemirror_mode": {
    "name": "ipython",
    "version": 3
   },
   "file_extension": ".py",
   "mimetype": "text/x-python",
   "name": "python",
   "nbconvert_exporter": "python",
   "pygments_lexer": "ipython3",
   "version": "3.6.6rc1"
  }
 },
 "nbformat": 4,
 "nbformat_minor": 2
}
