{
 "cells": [
  {
   "cell_type": "code",
   "execution_count": 1,
   "metadata": {},
   "outputs": [],
   "source": [
    "import numpy as np"
   ]
  },
  {
   "cell_type": "code",
   "execution_count": 8,
   "metadata": {},
   "outputs": [],
   "source": [
    "tensor = np.arange(32).reshape([4,2,4])"
   ]
  },
  {
   "cell_type": "code",
   "execution_count": 9,
   "metadata": {},
   "outputs": [
    {
     "data": {
      "text/plain": [
       "array([[[ 0,  1,  2,  3],\n",
       "        [ 4,  5,  6,  7]],\n",
       "\n",
       "       [[ 8,  9, 10, 11],\n",
       "        [12, 13, 14, 15]],\n",
       "\n",
       "       [[16, 17, 18, 19],\n",
       "        [20, 21, 22, 23]],\n",
       "\n",
       "       [[24, 25, 26, 27],\n",
       "        [28, 29, 30, 31]]])"
      ]
     },
     "execution_count": 9,
     "metadata": {},
     "output_type": "execute_result"
    }
   ],
   "source": [
    "tensor"
   ]
  },
  {
   "cell_type": "code",
   "execution_count": 10,
   "metadata": {},
   "outputs": [
    {
     "data": {
      "text/plain": [
       "array([[48, 52, 56, 60],\n",
       "       [64, 68, 72, 76]])"
      ]
     },
     "execution_count": 10,
     "metadata": {},
     "output_type": "execute_result"
    }
   ],
   "source": [
    "np.sum(tensor, axis=0)"
   ]
  },
  {
   "cell_type": "code",
   "execution_count": 6,
   "metadata": {},
   "outputs": [
    {
     "data": {
      "text/plain": [
       "array([[12, 15, 18, 21],\n",
       "       [48, 51, 54, 57]])"
      ]
     },
     "execution_count": 6,
     "metadata": {},
     "output_type": "execute_result"
    }
   ],
   "source": [
    "np.sum(tensor, axis=1)"
   ]
  },
  {
   "cell_type": "code",
   "execution_count": 7,
   "metadata": {},
   "outputs": [
    {
     "data": {
      "text/plain": [
       "array([[ 6, 22, 38],\n",
       "       [54, 70, 86]])"
      ]
     },
     "execution_count": 7,
     "metadata": {},
     "output_type": "execute_result"
    }
   ],
   "source": [
    "np.sum(tensor, axis=2)"
   ]
  },
  {
   "cell_type": "code",
   "execution_count": 14,
   "metadata": {},
   "outputs": [
    {
     "data": {
      "text/plain": [
       "3"
      ]
     },
     "execution_count": 14,
     "metadata": {},
     "output_type": "execute_result"
    }
   ],
   "source": [
    "np.ndim(tensor)"
   ]
  },
  {
   "cell_type": "markdown",
   "metadata": {},
   "source": [
    "# Ground 2"
   ]
  },
  {
   "cell_type": "code",
   "execution_count": 2,
   "metadata": {},
   "outputs": [],
   "source": [
    "import numpy as np"
   ]
  },
  {
   "cell_type": "code",
   "execution_count": 3,
   "metadata": {},
   "outputs": [],
   "source": [
    "m = np.arange(6).reshape([2,3])"
   ]
  },
  {
   "cell_type": "code",
   "execution_count": 4,
   "metadata": {},
   "outputs": [
    {
     "data": {
      "text/plain": [
       "array([3, 5, 7])"
      ]
     },
     "execution_count": 4,
     "metadata": {},
     "output_type": "execute_result"
    }
   ],
   "source": [
    "np.sum(m, axis=0)"
   ]
  },
  {
   "cell_type": "code",
   "execution_count": 24,
   "metadata": {},
   "outputs": [
    {
     "data": {
      "text/plain": [
       "array([ 3, 12])"
      ]
     },
     "execution_count": 24,
     "metadata": {},
     "output_type": "execute_result"
    }
   ],
   "source": [
    "np.sum(m, axis=1)"
   ]
  },
  {
   "cell_type": "markdown",
   "metadata": {},
   "source": [
    "# Ground 3"
   ]
  },
  {
   "cell_type": "code",
   "execution_count": 1,
   "metadata": {},
   "outputs": [],
   "source": [
    "from tensorflow.python.client import device_lib"
   ]
  },
  {
   "cell_type": "code",
   "execution_count": 2,
   "metadata": {},
   "outputs": [
    {
     "data": {
      "text/plain": [
       "[name: \"/device:CPU:0\"\n",
       " device_type: \"CPU\"\n",
       " memory_limit: 268435456\n",
       " locality {\n",
       " }\n",
       " incarnation: 3407635173725108333]"
      ]
     },
     "execution_count": 2,
     "metadata": {},
     "output_type": "execute_result"
    }
   ],
   "source": [
    "device_lib.list_local_devices()"
   ]
  },
  {
   "cell_type": "markdown",
   "metadata": {},
   "source": [
    "# Inspection"
   ]
  },
  {
   "cell_type": "code",
   "execution_count": 16,
   "metadata": {},
   "outputs": [],
   "source": [
    "import inspect"
   ]
  },
  {
   "cell_type": "code",
   "execution_count": 29,
   "metadata": {},
   "outputs": [],
   "source": [
    "def scan(obj):\n",
    "    scaned = {}\n",
    "    scaned['ismodule'] = inspect.ismodule(obj)\n",
    "    scaned['isclass'] = inspect.isclass(obj)\n",
    "    scaned['ismethod'] = inspect.ismethod(obj)\n",
    "    scaned['isfunction'] = inspect.isfunction(obj)\n",
    "    scaned['isgeneratorfunction'] = inspect.isgeneratorfunction(obj)\n",
    "    scaned['isgenerator'] = inspect.isgenerator(obj)\n",
    "    scaned['iscoroutinefunction'] = inspect.iscoroutinefunction(obj)\n",
    "    scaned['iscoroutine'] = inspect.iscoroutine(obj)\n",
    "    scaned['isawaitable'] = inspect.isawaitable(obj)\n",
    "    scaned['isasyncgenfunction'] = inspect.isasyncgenfunction(obj)\n",
    "    scaned['isasyncgen'] = inspect.isasyncgen(obj)\n",
    "    scaned['istraceback'] = inspect.istraceback(obj)\n",
    "    scaned['isframe'] = inspect.isframe(obj)\n",
    "    scaned['iscode'] = inspect.iscode(obj)\n",
    "    scaned['isbuiltin'] = inspect.isbuiltin(obj)\n",
    "    scaned['isroutine'] = inspect.isroutine(obj)\n",
    "    scaned['isabstract'] = inspect.isabstract(obj)\n",
    "    scaned['ismethoddescriptor'] = inspect.ismethoddescriptor(obj)\n",
    "    scaned['isdatadescriptor'] = inspect.isdatadescriptor(obj)\n",
    "    scaned['isgetsetdescriptor'] = inspect.isgetsetdescriptor(obj)\n",
    "    scaned['ismemberdescriptor'] = inspect.ismemberdescriptor(obj)\n",
    "    \n",
    "    for v in [k for k in scaned.keys() if scaned[k] == True]:\n",
    "        print('{} = True'.format(v))\n"
   ]
  },
  {
   "cell_type": "markdown",
   "metadata": {},
   "source": [
    "# Web Crawling"
   ]
  },
  {
   "cell_type": "markdown",
   "metadata": {},
   "source": [
    "#### webdriver 사용하여 엑셀 파일 다운로드"
   ]
  },
  {
   "cell_type": "code",
   "execution_count": 160,
   "metadata": {},
   "outputs": [],
   "source": [
    "from selenium import webdriver\n",
    "\n",
    "driver = webdriver.Chrome('d:/mydevroot/ws/webdrivers/chromedriver.exe')\n",
    "#driver2 = webdriver.Edge('d:/mydevroot/ws/webdrivers/MicrosoftWebDriver.exe')\n",
    "\n",
    "driver.get('http://data.gm.go.kr/portal/data/service/selectServicePage.do?infId=00915CNL1L977ETDR65913')\n",
    "#sheet-excel-button\n",
    "\n",
    "from selenium.webdriver.common.keys import Keys\n",
    "e = driver.find_element_by_id('sheet-excel-button')\n",
    "\n",
    "e.click()"
   ]
  },
  {
   "cell_type": "markdown",
   "metadata": {},
   "source": [
    "#### 다운로드된 파일 찾기"
   ]
  },
  {
   "cell_type": "code",
   "execution_count": 206,
   "metadata": {},
   "outputs": [],
   "source": [
    "download_folder = os.path.join(os.getenv('USERPROFILE'), 'Downloads')\n",
    "\n",
    "file_list = { e.name: e.stat().st_ctime for e in os.scandir(download_folder) if e.is_file() == True }\n",
    "\n",
    "from collections import Counter\n",
    "counter = Counter(file_list)\n",
    "ordered = sorted(counter, key=lambda x: x[1], reverse=True)\n",
    "\n",
    "downloaded_file = os.path.join(download_folder, ordered[0])"
   ]
  },
  {
   "cell_type": "markdown",
   "metadata": {},
   "source": [
    "#### pandas 로 엑셀파일 읽기"
   ]
  },
  {
   "cell_type": "code",
   "execution_count": 209,
   "metadata": {},
   "outputs": [],
   "source": [
    "import numpy as np\n",
    "import pandas as pd"
   ]
  },
  {
   "cell_type": "code",
   "execution_count": 211,
   "metadata": {},
   "outputs": [],
   "source": [
    "df = pd.read_excel(downloaded_file)"
   ]
  },
  {
   "cell_type": "code",
   "execution_count": 219,
   "metadata": {},
   "outputs": [
    {
     "data": {
      "text/plain": [
       "건축구분명     0\n",
       "대지위치      0\n",
       "연면적       0\n",
       "허가일자      0\n",
       "총주차대수     1\n",
       "세대수      12\n",
       "호수       10\n",
       "가구수      14\n",
       "dtype: int64"
      ]
     },
     "execution_count": 219,
     "metadata": {},
     "output_type": "execute_result"
    }
   ],
   "source": [
    "np.sum(df.isna(), axis=0)"
   ]
  },
  {
   "cell_type": "code",
   "execution_count": 220,
   "metadata": {},
   "outputs": [
    {
     "data": {
      "text/html": [
       "<div>\n",
       "<style scoped>\n",
       "    .dataframe tbody tr th:only-of-type {\n",
       "        vertical-align: middle;\n",
       "    }\n",
       "\n",
       "    .dataframe tbody tr th {\n",
       "        vertical-align: top;\n",
       "    }\n",
       "\n",
       "    .dataframe thead th {\n",
       "        text-align: right;\n",
       "    }\n",
       "</style>\n",
       "<table border=\"1\" class=\"dataframe\">\n",
       "  <thead>\n",
       "    <tr style=\"text-align: right;\">\n",
       "      <th></th>\n",
       "      <th>건축구분명</th>\n",
       "      <th>대지위치</th>\n",
       "      <th>연면적</th>\n",
       "      <th>허가일자</th>\n",
       "      <th>총주차대수</th>\n",
       "      <th>세대수</th>\n",
       "      <th>호수</th>\n",
       "      <th>가구수</th>\n",
       "    </tr>\n",
       "  </thead>\n",
       "  <tbody>\n",
       "    <tr>\n",
       "      <th>0</th>\n",
       "      <td>신축</td>\n",
       "      <td>경기도 광명시 소하동 1398-4</td>\n",
       "      <td>190.280</td>\n",
       "      <td>2018-01-08</td>\n",
       "      <td>2.0</td>\n",
       "      <td>1.0</td>\n",
       "      <td>NaN</td>\n",
       "      <td>NaN</td>\n",
       "    </tr>\n",
       "    <tr>\n",
       "      <th>1</th>\n",
       "      <td>증축</td>\n",
       "      <td>경기도 광명시 일직동 358-5</td>\n",
       "      <td>231.000</td>\n",
       "      <td>2018-01-16</td>\n",
       "      <td>2.0</td>\n",
       "      <td>NaN</td>\n",
       "      <td>NaN</td>\n",
       "      <td>NaN</td>\n",
       "    </tr>\n",
       "    <tr>\n",
       "      <th>2</th>\n",
       "      <td>신축</td>\n",
       "      <td>경기도 광명시 광명동 277-9</td>\n",
       "      <td>217.177</td>\n",
       "      <td>2018-01-17</td>\n",
       "      <td>3.0</td>\n",
       "      <td>NaN</td>\n",
       "      <td>NaN</td>\n",
       "      <td>3.0</td>\n",
       "    </tr>\n",
       "    <tr>\n",
       "      <th>3</th>\n",
       "      <td>신축</td>\n",
       "      <td>경기도 광명시 광명동 758-4</td>\n",
       "      <td>1452.000</td>\n",
       "      <td>2018-01-19</td>\n",
       "      <td>20.0</td>\n",
       "      <td>8.0</td>\n",
       "      <td>12.0</td>\n",
       "      <td>NaN</td>\n",
       "    </tr>\n",
       "    <tr>\n",
       "      <th>4</th>\n",
       "      <td>용도변경</td>\n",
       "      <td>경기도 광명시 철산동 93-2</td>\n",
       "      <td>458.250</td>\n",
       "      <td>2018-01-22</td>\n",
       "      <td>2.0</td>\n",
       "      <td>NaN</td>\n",
       "      <td>NaN</td>\n",
       "      <td>2.0</td>\n",
       "    </tr>\n",
       "    <tr>\n",
       "      <th>5</th>\n",
       "      <td>용도변경</td>\n",
       "      <td>경기도 광명시 소하동 1342</td>\n",
       "      <td>7025.890</td>\n",
       "      <td>2018-01-22</td>\n",
       "      <td>42.0</td>\n",
       "      <td>NaN</td>\n",
       "      <td>40.0</td>\n",
       "      <td>NaN</td>\n",
       "    </tr>\n",
       "    <tr>\n",
       "      <th>6</th>\n",
       "      <td>용도변경</td>\n",
       "      <td>경기도 광명시 소하동 1342</td>\n",
       "      <td>7025.890</td>\n",
       "      <td>2018-01-22</td>\n",
       "      <td>42.0</td>\n",
       "      <td>NaN</td>\n",
       "      <td>40.0</td>\n",
       "      <td>NaN</td>\n",
       "    </tr>\n",
       "    <tr>\n",
       "      <th>7</th>\n",
       "      <td>용도변경</td>\n",
       "      <td>경기도 광명시 소하동 1342</td>\n",
       "      <td>7025.890</td>\n",
       "      <td>2018-01-22</td>\n",
       "      <td>42.0</td>\n",
       "      <td>NaN</td>\n",
       "      <td>40.0</td>\n",
       "      <td>NaN</td>\n",
       "    </tr>\n",
       "    <tr>\n",
       "      <th>8</th>\n",
       "      <td>용도변경</td>\n",
       "      <td>경기도 광명시 소하동 1342</td>\n",
       "      <td>7025.890</td>\n",
       "      <td>2018-01-22</td>\n",
       "      <td>42.0</td>\n",
       "      <td>NaN</td>\n",
       "      <td>40.0</td>\n",
       "      <td>NaN</td>\n",
       "    </tr>\n",
       "    <tr>\n",
       "      <th>9</th>\n",
       "      <td>용도변경</td>\n",
       "      <td>경기도 광명시 소하동 1342</td>\n",
       "      <td>7025.890</td>\n",
       "      <td>2018-01-22</td>\n",
       "      <td>42.0</td>\n",
       "      <td>NaN</td>\n",
       "      <td>40.0</td>\n",
       "      <td>NaN</td>\n",
       "    </tr>\n",
       "    <tr>\n",
       "      <th>10</th>\n",
       "      <td>용도변경</td>\n",
       "      <td>경기도 광명시 광명동 374-53</td>\n",
       "      <td>349.490</td>\n",
       "      <td>2018-01-24</td>\n",
       "      <td>NaN</td>\n",
       "      <td>NaN</td>\n",
       "      <td>NaN</td>\n",
       "      <td>1.0</td>\n",
       "    </tr>\n",
       "    <tr>\n",
       "      <th>11</th>\n",
       "      <td>신축</td>\n",
       "      <td>경기도 광명시 소하동 1077-4</td>\n",
       "      <td>321.520</td>\n",
       "      <td>2018-01-26</td>\n",
       "      <td>7.0</td>\n",
       "      <td>NaN</td>\n",
       "      <td>NaN</td>\n",
       "      <td>NaN</td>\n",
       "    </tr>\n",
       "    <tr>\n",
       "      <th>12</th>\n",
       "      <td>신축</td>\n",
       "      <td>경기도 광명시 소하동 35-2 외4필지</td>\n",
       "      <td>867.920</td>\n",
       "      <td>2018-01-29</td>\n",
       "      <td>6.0</td>\n",
       "      <td>NaN</td>\n",
       "      <td>7.0</td>\n",
       "      <td>NaN</td>\n",
       "    </tr>\n",
       "    <tr>\n",
       "      <th>13</th>\n",
       "      <td>신축</td>\n",
       "      <td>경기도 광명시 광명동 광명재정비촉진지구 광명16R구역 16-3</td>\n",
       "      <td>767.920</td>\n",
       "      <td>2018-01-31</td>\n",
       "      <td>4.0</td>\n",
       "      <td>NaN</td>\n",
       "      <td>NaN</td>\n",
       "      <td>NaN</td>\n",
       "    </tr>\n",
       "    <tr>\n",
       "      <th>14</th>\n",
       "      <td>신축</td>\n",
       "      <td>경기도 광명시 소하동 947 외2필지</td>\n",
       "      <td>497.640</td>\n",
       "      <td>2018-01-31</td>\n",
       "      <td>8.0</td>\n",
       "      <td>8.0</td>\n",
       "      <td>NaN</td>\n",
       "      <td>NaN</td>\n",
       "    </tr>\n",
       "    <tr>\n",
       "      <th>15</th>\n",
       "      <td>신축</td>\n",
       "      <td>경기도 광명시 소하동 947-6 외1필지</td>\n",
       "      <td>497.640</td>\n",
       "      <td>2018-01-31</td>\n",
       "      <td>8.0</td>\n",
       "      <td>8.0</td>\n",
       "      <td>NaN</td>\n",
       "      <td>NaN</td>\n",
       "    </tr>\n",
       "    <tr>\n",
       "      <th>16</th>\n",
       "      <td>신축</td>\n",
       "      <td>경기도 광명시 소하동 947-6</td>\n",
       "      <td>497.640</td>\n",
       "      <td>2018-01-31</td>\n",
       "      <td>8.0</td>\n",
       "      <td>8.0</td>\n",
       "      <td>NaN</td>\n",
       "      <td>NaN</td>\n",
       "    </tr>\n",
       "  </tbody>\n",
       "</table>\n",
       "</div>"
      ],
      "text/plain": [
       "   건축구분명                                대지위치       연면적        허가일자  총주차대수  \\\n",
       "0     신축                  경기도 광명시 소하동 1398-4   190.280  2018-01-08    2.0   \n",
       "1     증축                   경기도 광명시 일직동 358-5   231.000  2018-01-16    2.0   \n",
       "2     신축                   경기도 광명시 광명동 277-9   217.177  2018-01-17    3.0   \n",
       "3     신축                   경기도 광명시 광명동 758-4  1452.000  2018-01-19   20.0   \n",
       "4   용도변경                    경기도 광명시 철산동 93-2   458.250  2018-01-22    2.0   \n",
       "5   용도변경                    경기도 광명시 소하동 1342  7025.890  2018-01-22   42.0   \n",
       "6   용도변경                    경기도 광명시 소하동 1342  7025.890  2018-01-22   42.0   \n",
       "7   용도변경                    경기도 광명시 소하동 1342  7025.890  2018-01-22   42.0   \n",
       "8   용도변경                    경기도 광명시 소하동 1342  7025.890  2018-01-22   42.0   \n",
       "9   용도변경                    경기도 광명시 소하동 1342  7025.890  2018-01-22   42.0   \n",
       "10  용도변경                  경기도 광명시 광명동 374-53   349.490  2018-01-24    NaN   \n",
       "11    신축                  경기도 광명시 소하동 1077-4   321.520  2018-01-26    7.0   \n",
       "12    신축               경기도 광명시 소하동 35-2 외4필지   867.920  2018-01-29    6.0   \n",
       "13    신축  경기도 광명시 광명동 광명재정비촉진지구 광명16R구역 16-3   767.920  2018-01-31    4.0   \n",
       "14    신축                경기도 광명시 소하동 947 외2필지   497.640  2018-01-31    8.0   \n",
       "15    신축              경기도 광명시 소하동 947-6 외1필지   497.640  2018-01-31    8.0   \n",
       "16    신축                   경기도 광명시 소하동 947-6   497.640  2018-01-31    8.0   \n",
       "\n",
       "    세대수    호수  가구수  \n",
       "0   1.0   NaN  NaN  \n",
       "1   NaN   NaN  NaN  \n",
       "2   NaN   NaN  3.0  \n",
       "3   8.0  12.0  NaN  \n",
       "4   NaN   NaN  2.0  \n",
       "5   NaN  40.0  NaN  \n",
       "6   NaN  40.0  NaN  \n",
       "7   NaN  40.0  NaN  \n",
       "8   NaN  40.0  NaN  \n",
       "9   NaN  40.0  NaN  \n",
       "10  NaN   NaN  1.0  \n",
       "11  NaN   NaN  NaN  \n",
       "12  NaN   7.0  NaN  \n",
       "13  NaN   NaN  NaN  \n",
       "14  8.0   NaN  NaN  \n",
       "15  8.0   NaN  NaN  \n",
       "16  8.0   NaN  NaN  "
      ]
     },
     "execution_count": 220,
     "metadata": {},
     "output_type": "execute_result"
    }
   ],
   "source": [
    "df"
   ]
  },
  {
   "cell_type": "markdown",
   "metadata": {},
   "source": [
    "## Windows Registry"
   ]
  },
  {
   "cell_type": "code",
   "execution_count": 2,
   "metadata": {},
   "outputs": [],
   "source": [
    "import winreg"
   ]
  },
  {
   "cell_type": "code",
   "execution_count": 8,
   "metadata": {},
   "outputs": [],
   "source": [
    "hkey = winreg.OpenKey(winreg.HKEY_CURRENT_USER, 'Control Panel\\\\Desktop')"
   ]
  },
  {
   "cell_type": "code",
   "execution_count": 33,
   "metadata": {},
   "outputs": [],
   "source": [
    "def confirm_key(key, sub_key, reg_dt, value):\n",
    "    try:\n",
    "        wk = winreg.OpenKeyEx(key, sub_key, 0, winreg.KEY_ALL_ACCESS)\n",
    "    except FileNotFoundError:\n",
    "        wk = winreg.CreateKeyEx(key, sub_key, 0, winreg.KEY_ALL_ACCESS)\n",
    "    finally:\n",
    "        winreg.SetValueEx(key, sub_key, 0, reg_dt, value)\n",
    "        wk.Close()"
   ]
  },
  {
   "cell_type": "code",
   "execution_count": 36,
   "metadata": {},
   "outputs": [
    {
     "ename": "PermissionError",
     "evalue": "[WinError 5] 액세스가 거부되었습니다",
     "output_type": "error",
     "traceback": [
      "\u001b[1;31m---------------------------------------------------------------------------\u001b[0m",
      "\u001b[1;31mPermissionError\u001b[0m                           Traceback (most recent call last)",
      "\u001b[1;32m<ipython-input-36-efdcee846d24>\u001b[0m in \u001b[0;36m<module>\u001b[1;34m\u001b[0m\n\u001b[0;32m      1\u001b[0m \u001b[1;31m#confirm_key(hkey, 'KKK', winreg.REG_DWORD, 10)\u001b[0m\u001b[1;33m\u001b[0m\u001b[1;33m\u001b[0m\u001b[0m\n\u001b[1;32m----> 2\u001b[1;33m \u001b[0mconfirm_key\u001b[0m\u001b[1;33m(\u001b[0m\u001b[0mhkey\u001b[0m\u001b[1;33m,\u001b[0m \u001b[1;34m'SCRNSAVE.EXE'\u001b[0m\u001b[1;33m,\u001b[0m \u001b[0mwinreg\u001b[0m\u001b[1;33m.\u001b[0m\u001b[0mREG_SZ\u001b[0m\u001b[1;33m,\u001b[0m \u001b[1;34m'With POSCO.scr'\u001b[0m\u001b[1;33m)\u001b[0m\u001b[1;33m\u001b[0m\u001b[0m\n\u001b[0m",
      "\u001b[1;32m<ipython-input-33-0c20c6f2c6a4>\u001b[0m in \u001b[0;36mconfirm_key\u001b[1;34m(key, sub_key, reg_dt, value)\u001b[0m\n\u001b[0;32m      5\u001b[0m         \u001b[0mwk\u001b[0m \u001b[1;33m=\u001b[0m \u001b[0mwinreg\u001b[0m\u001b[1;33m.\u001b[0m\u001b[0mCreateKeyEx\u001b[0m\u001b[1;33m(\u001b[0m\u001b[0mkey\u001b[0m\u001b[1;33m,\u001b[0m \u001b[0msub_key\u001b[0m\u001b[1;33m,\u001b[0m \u001b[1;36m0\u001b[0m\u001b[1;33m,\u001b[0m \u001b[0mwinreg\u001b[0m\u001b[1;33m.\u001b[0m\u001b[0mKEY_ALL_ACCESS\u001b[0m\u001b[1;33m)\u001b[0m\u001b[1;33m\u001b[0m\u001b[0m\n\u001b[0;32m      6\u001b[0m     \u001b[1;32mfinally\u001b[0m\u001b[1;33m:\u001b[0m\u001b[1;33m\u001b[0m\u001b[0m\n\u001b[1;32m----> 7\u001b[1;33m         \u001b[0mwinreg\u001b[0m\u001b[1;33m.\u001b[0m\u001b[0mSetValueEx\u001b[0m\u001b[1;33m(\u001b[0m\u001b[0mkey\u001b[0m\u001b[1;33m,\u001b[0m \u001b[0msub_key\u001b[0m\u001b[1;33m,\u001b[0m \u001b[1;36m0\u001b[0m\u001b[1;33m,\u001b[0m \u001b[0mreg_dt\u001b[0m\u001b[1;33m,\u001b[0m \u001b[0mvalue\u001b[0m\u001b[1;33m)\u001b[0m\u001b[1;33m\u001b[0m\u001b[0m\n\u001b[0m\u001b[0;32m      8\u001b[0m         \u001b[0mwk\u001b[0m\u001b[1;33m.\u001b[0m\u001b[0mClose\u001b[0m\u001b[1;33m(\u001b[0m\u001b[1;33m)\u001b[0m\u001b[1;33m\u001b[0m\u001b[0m\n",
      "\u001b[1;31mPermissionError\u001b[0m: [WinError 5] 액세스가 거부되었습니다"
     ]
    }
   ],
   "source": [
    "#confirm_key(hkey, 'KKK', winreg.REG_DWORD, 10)\n",
    "confirm_key(hkey, 'SCRNSAVE.EXE', winreg.REG_SZ, 'With POSCO.scr')"
   ]
  },
  {
   "cell_type": "markdown",
   "metadata": {},
   "source": [
    "## OpenCV"
   ]
  },
  {
   "cell_type": "markdown",
   "metadata": {},
   "source": [
    "참조사이트: http://blog.naver.com/samsjang/220501624273"
   ]
  },
  {
   "cell_type": "code",
   "execution_count": 38,
   "metadata": {},
   "outputs": [],
   "source": [
    "%matplotlib inline\n",
    "import cv2\n",
    "import numpy as np\n",
    "import matplotlib.pyplot as plt"
   ]
  },
  {
   "cell_type": "code",
   "execution_count": 40,
   "metadata": {},
   "outputs": [],
   "source": [
    "img = cv2.imread('images/car.png', cv2.IMREAD_COLOR)"
   ]
  },
  {
   "cell_type": "code",
   "execution_count": 41,
   "metadata": {},
   "outputs": [],
   "source": [
    "cv2.imshow('model', img)"
   ]
  },
  {
   "cell_type": "code",
   "execution_count": 42,
   "metadata": {},
   "outputs": [
    {
     "data": {
      "text/plain": [
       "32"
      ]
     },
     "execution_count": 42,
     "metadata": {},
     "output_type": "execute_result"
    }
   ],
   "source": [
    "cv2.waitKey(0)"
   ]
  },
  {
   "cell_type": "code",
   "execution_count": 43,
   "metadata": {},
   "outputs": [],
   "source": [
    "cv2.destroyAllWindows()"
   ]
  },
  {
   "cell_type": "markdown",
   "metadata": {},
   "source": [
    "### camera"
   ]
  },
  {
   "cell_type": "code",
   "execution_count": 63,
   "metadata": {},
   "outputs": [
    {
     "data": {
      "text/plain": [
       "True"
      ]
     },
     "execution_count": 63,
     "metadata": {},
     "output_type": "execute_result"
    }
   ],
   "source": [
    "cap = cv2.VideoCapture(0)\n",
    "\n",
    "cap.set(3, 480)\n",
    "cap.set(4, 320)"
   ]
  },
  {
   "cell_type": "code",
   "execution_count": 64,
   "metadata": {},
   "outputs": [],
   "source": [
    "while True:\n",
    "    ret, frame = cap.read()\n",
    "    gray = cv2.cvtColor(frame, cv2.COLOR_BGR2GRAY)\n",
    "    cv2.imshow('video', gray)\n",
    "    k = cv2.waitKey(1) & 0xFF\n",
    "    if k == 27: // ESC\n",
    "        break\n",
    "        \n",
    "cap.release()\n",
    "cv2.destroyAllWindows()        "
   ]
  },
  {
   "cell_type": "markdown",
   "metadata": {},
   "source": [
    "## Web Scrapping"
   ]
  },
  {
   "cell_type": "code",
   "execution_count": 31,
   "metadata": {},
   "outputs": [],
   "source": [
    "import warnings"
   ]
  },
  {
   "cell_type": "code",
   "execution_count": 32,
   "metadata": {},
   "outputs": [],
   "source": [
    "warnings.filterwarnings('ignore')"
   ]
  },
  {
   "cell_type": "code",
   "execution_count": 29,
   "metadata": {},
   "outputs": [],
   "source": [
    "from selenium import webdriver\n",
    "from selenium.webdriver.common.keys import Keys\n",
    "from bs4 import BeautifulSoup\n",
    "\n",
    "driver = webdriver.Chrome('d:/mydevroot/ws/webdrivers/chromedriver.exe')\n",
    "\n",
    "driver.get('https://www.data.go.kr')"
   ]
  },
  {
   "cell_type": "code",
   "execution_count": 30,
   "metadata": {},
   "outputs": [],
   "source": [
    "driver.set_window_size(1696, 1026)\n",
    "driver.find_element_by_link_text('데이터셋').click()\n",
    "driver.find_element_by_link_text('제공기관필터').click()\n",
    "driver.find_element_by_css_selector('#insttFFList > li > a > span').click()\n",
    "driver.find_element_by_link_text('파일데이터 결과 더보기').click()\n",
    "driver.find_element_by_link_text('2').click()\n",
    "driver.file_detector()"
   ]
  },
  {
   "cell_type": "code",
   "execution_count": 27,
   "metadata": {},
   "outputs": [],
   "source": [
    "driver.close()"
   ]
  },
  {
   "cell_type": "markdown",
   "metadata": {},
   "source": [
    "## 도시공원"
   ]
  },
  {
   "cell_type": "code",
   "execution_count": 33,
   "metadata": {},
   "outputs": [
    {
     "name": "stdout",
     "output_type": "stream",
     "text": [
      "Name: plotnine\n",
      "Version: 0.5.1\n",
      "Summary: A grammar of graphics for python\n",
      "Home-page: https://github.com/has2k1/plotnine\n",
      "Author: None\n",
      "Author-email: None\n",
      "License: GPL-2\n",
      "Location: c:\\users\\s11711\\appdata\\local\\programs\\python\\python36\\lib\\site-packages\n",
      "Requires: scipy, statsmodels, matplotlib, numpy, mizani, pandas, descartes, patsy\n",
      "Required-by: \n"
     ]
    }
   ],
   "source": [
    "!pip show plotnine"
   ]
  },
  {
   "cell_type": "code",
   "execution_count": 34,
   "metadata": {},
   "outputs": [
    {
     "name": "stdout",
     "output_type": "stream",
     "text": [
      "Collecting folium\n",
      "  Downloading https://files.pythonhosted.org/packages/55/e2/7e523df8558b7f4b2ab4c62014fd378ccecce3fdc14c9928b272a88ae4cc/folium-0.7.0-py3-none-any.whl (85kB)\n",
      "Collecting branca>=0.3.0 (from folium)\n",
      "  Downloading https://files.pythonhosted.org/packages/63/36/1c93318e9653f4e414a2e0c3b98fc898b4970e939afeedeee6075dd3b703/branca-0.3.1-py3-none-any.whl\n",
      "Requirement already satisfied: numpy in c:\\users\\s11711\\appdata\\local\\programs\\python\\python36\\lib\\site-packages (from folium) (1.15.2)\n",
      "Requirement already satisfied: requests in c:\\users\\s11711\\appdata\\local\\programs\\python\\python36\\lib\\site-packages (from folium) (2.20.0)\n",
      "Requirement already satisfied: six in c:\\users\\s11711\\appdata\\local\\programs\\python\\python36\\lib\\site-packages (from folium) (1.11.0)\n",
      "Requirement already satisfied: jinja2 in c:\\users\\s11711\\appdata\\local\\programs\\python\\python36\\lib\\site-packages (from folium) (2.10)\n",
      "Requirement already satisfied: certifi>=2017.4.17 in c:\\users\\s11711\\appdata\\local\\programs\\python\\python36\\lib\\site-packages (from requests->folium) (2018.8.24)\n",
      "Requirement already satisfied: chardet<3.1.0,>=3.0.2 in c:\\users\\s11711\\appdata\\local\\programs\\python\\python36\\lib\\site-packages (from requests->folium) (3.0.4)\n",
      "Requirement already satisfied: idna<2.8,>=2.5 in c:\\users\\s11711\\appdata\\local\\programs\\python\\python36\\lib\\site-packages (from requests->folium) (2.7)\n",
      "Requirement already satisfied: urllib3<1.25,>=1.21.1 in c:\\users\\s11711\\appdata\\local\\programs\\python\\python36\\lib\\site-packages (from requests->folium) (1.24.1)\n",
      "Requirement already satisfied: MarkupSafe>=0.23 in c:\\users\\s11711\\appdata\\local\\programs\\python\\python36\\lib\\site-packages (from jinja2->folium) (1.0)\n",
      "Installing collected packages: branca, folium\n",
      "Successfully installed branca-0.3.1 folium-0.7.0\n"
     ]
    }
   ],
   "source": [
    "!pip install folium"
   ]
  },
  {
   "cell_type": "code",
   "execution_count": 61,
   "metadata": {},
   "outputs": [
    {
     "data": {
      "text/plain": [
       "'d:\\\\mydevroot\\\\ws'"
      ]
     },
     "execution_count": 61,
     "metadata": {},
     "output_type": "execute_result"
    }
   ],
   "source": [
    "%pwd"
   ]
  },
  {
   "cell_type": "code",
   "execution_count": 62,
   "metadata": {},
   "outputs": [],
   "source": [
    "import pandas as pd\n",
    "import numpy as np\n",
    "from plotnine import *\n",
    "import re\n",
    "import folium"
   ]
  },
  {
   "cell_type": "code",
   "execution_count": 67,
   "metadata": {},
   "outputs": [
    {
     "name": "stdout",
     "output_type": "stream",
     "text": [
      " D 드라이브의 볼륨: Data\n",
      " 볼륨 일련 번호: E850-0409\n",
      "\n",
      " d:\\mydevroot\\ws\\data 디렉터리\n",
      "\n",
      "2019-01-07  오후 01:01    <DIR>          .\n",
      "2019-01-07  오후 01:01    <DIR>          ..\n",
      "2019-01-07  오후 01:00         3,382,129 전국도시공원표준데이터.csv\n",
      "               1개 파일           3,382,129 바이트\n",
      "               2개 디렉터리  390,112,985,088 바이트 남음\n"
     ]
    }
   ],
   "source": [
    "#park = pd.read_csv('./data/전국도시공원표준데이터.csv', encoding='euc-kr')\n",
    "!dir data"
   ]
  },
  {
   "cell_type": "markdown",
   "metadata": {},
   "source": [
    "## EP Login Script"
   ]
  },
  {
   "cell_type": "code",
   "execution_count": 33,
   "metadata": {},
   "outputs": [],
   "source": [
    "from selenium import webdriver\n",
    "from selenium.webdriver.common.keys import Keys\n",
    "from bs4 import BeautifulSoup\n",
    "\n",
    "driver = webdriver.Chrome('d:/mydevroot/ws/webdrivers/chromedriver.exe')\n",
    "driver.get('*******')"
   ]
  },
  {
   "cell_type": "code",
   "execution_count": 34,
   "metadata": {},
   "outputs": [
    {
     "data": {
      "text/plain": [
       "['CDwindow-9B557A75CDAD1D9042E32D5F5D14F942']"
      ]
     },
     "execution_count": 34,
     "metadata": {},
     "output_type": "execute_result"
    }
   ],
   "source": [
    "driver.window_handles"
   ]
  },
  {
   "cell_type": "code",
   "execution_count": 35,
   "metadata": {},
   "outputs": [],
   "source": [
    "driver.maximize_window()\n",
    "driver.find_element_by_id('username').send_keys('*******')\n",
    "driver.find_element_by_id('password').send_keys('*******')\n",
    "driver.find_element_by_id('Login').submit()"
   ]
  },
  {
   "cell_type": "code",
   "execution_count": 36,
   "metadata": {},
   "outputs": [],
   "source": [
    "driver.switch_to.alert.accept()"
   ]
  },
  {
   "cell_type": "code",
   "execution_count": 37,
   "metadata": {},
   "outputs": [
    {
     "data": {
      "text/plain": [
       "['CDwindow-9B557A75CDAD1D9042E32D5F5D14F942',\n",
       " 'CDwindow-6A7C6DB08EB2B386F8CC19EA3EED9996']"
      ]
     },
     "execution_count": 37,
     "metadata": {},
     "output_type": "execute_result"
    }
   ],
   "source": [
    "driver.window_handles"
   ]
  },
  {
   "cell_type": "code",
   "execution_count": 38,
   "metadata": {},
   "outputs": [],
   "source": [
    "driver.find_element_by_css_selector('img[title=\"전자결재\"]').click()"
   ]
  },
  {
   "cell_type": "code",
   "execution_count": 39,
   "metadata": {},
   "outputs": [
    {
     "data": {
      "text/plain": [
       "['CDwindow-9B557A75CDAD1D9042E32D5F5D14F942',\n",
       " 'CDwindow-6A7C6DB08EB2B386F8CC19EA3EED9996',\n",
       " 'CDwindow-BF1F95A8692C33153A32CCA012DFE6C5']"
      ]
     },
     "execution_count": 39,
     "metadata": {},
     "output_type": "execute_result"
    }
   ],
   "source": [
    "driver.window_handles"
   ]
  },
  {
   "cell_type": "code",
   "execution_count": 40,
   "metadata": {},
   "outputs": [],
   "source": [
    "driver.switch_to.window(driver.window_handles[2])"
   ]
  },
  {
   "cell_type": "code",
   "execution_count": 44,
   "metadata": {},
   "outputs": [],
   "source": [
    "driver.switch_to.frame(driver.find_element_by_css_selector('iframe[name=REA_contents'))"
   ]
  },
  {
   "cell_type": "code",
   "execution_count": 45,
   "metadata": {},
   "outputs": [],
   "source": [
    "driver.find_element_by_id('rptHighLevel_ctl02_rptMiddleLevel_ctl01_lnkName').click()"
   ]
  },
  {
   "cell_type": "code",
   "execution_count": 46,
   "metadata": {},
   "outputs": [],
   "source": [
    "driver.implicitly_wait(1)"
   ]
  },
  {
   "cell_type": "code",
   "execution_count": 47,
   "metadata": {},
   "outputs": [],
   "source": [
    "driver.close()"
   ]
  },
  {
   "cell_type": "code",
   "execution_count": 48,
   "metadata": {},
   "outputs": [],
   "source": [
    "driver.quit()"
   ]
  },
  {
   "cell_type": "markdown",
   "metadata": {},
   "source": [
    "## Data Loader\n",
    "\n",
    "* "
   ]
  },
  {
   "cell_type": "code",
   "execution_count": 139,
   "metadata": {},
   "outputs": [],
   "source": [
    "import abc\n",
    "import pandas as pd\n",
    "from selenium import webdriver\n",
    "from selenium.webdriver.chrome.options import Options\n",
    "from selenium.webdriver.common.keys import Keys\n",
    "from selenium.webdriver.common.by import By\n",
    "from selenium.webdriver.support.ui import WebDriverWait\n",
    "from selenium.webdriver.support import expected_conditions as EC\n",
    "import os\n",
    "import os.path\n",
    "import datetime\n",
    "\n",
    "class PublicDataLoader(metaclass=abc.ABCMeta):\n",
    "    \"\"\"공공데이타 포탈에 공개된 데이타를 추출하여 pandas DataFrame 으로 반환\n",
    "    Chrome available preference: https://cs.chromium.org/chromium/src/chrome/common/pref_names.cc\n",
    "    \"\"\"\n",
    "    \n",
    "    def __init__(self, url):\n",
    "        self._url = url\n",
    "        \n",
    "    def load_as_dataframe(self):\n",
    "        return self.extract()\n",
    "    \n",
    "    @property\n",
    "    def url(self):\n",
    "        return self._url\n",
    "    \n",
    "    @abc.abstractmethod\n",
    "    def extract(self):\n",
    "        pass\n",
    "    \n",
    "    @property\n",
    "    def about(self):\n",
    "        return self._about()\n",
    "    \n",
    "    @abc.abstractclassmethod\n",
    "    def _about():\n",
    "        pass\n",
    "    \n",
    "    def _create_webdriver(self, options=None):\n",
    "        return webdriver.Chrome('d:/mydevroot/ws/webdrivers/chromedriver.exe', options=options)\n",
    "    \n",
    "    @staticmethod\n",
    "    def _find_latest_file(path=None):\n",
    "        import os\n",
    "        from collections import Counter\n",
    "        path = os.getcwd() if path==None else path\n",
    "        file_list = {e.name: e.stat().st_ctime for e in os.scandir(path) if e.is_file() == True}\n",
    "        counter = Counter(file_list)\n",
    "        ordered = sorted(counter, key=lambda x: x[1], reverse=True)\n",
    "        _, ext = os.path.splitext(ordered[0])\n",
    "        renamed_filename = str(datetime.datetime.now().toordinal()) + ext  \n",
    "        os.system('ren \"{}\" \"{}'.format(os.path.join(path, ordered[0]), renamed_filename))            \n",
    "        return  os.path.join(path, renamed_filename)\n",
    "    \n",
    "class JunkukDosiGongwon(PublicDataLoader):\n",
    "    def __init__(self):\n",
    "        super().__init__('https://www.data.go.kr/dataset/15012890/standard.do')\n",
    "        self.__driver = None\n",
    "        \n",
    "    def __del__(self):\n",
    "        self.__driver.close()\n",
    "        \n",
    "    def extract(self):\n",
    "        download_folder = r'c:\\Users\\s11711\\downloads\\Text'\n",
    "        options = Options()\n",
    "        options.add_experimental_option('prefs', {\n",
    "            'download.default_directory': download_folder,\n",
    "            'download.prompt_for_download': False,\n",
    "            'download.directory_upgrade': True,\n",
    "            'safebrowsing.enabled': True\n",
    "        })\n",
    "        self.__driver = super()._create_webdriver(options)\n",
    "        self.__driver.get(self.url)\n",
    "        self.__driver.find_element_by_css_selector('.single-download-btn').click()\n",
    "        self.__driver.implicitly_wait(5)\n",
    "        filename = PublicDataLoader._find_latest_file(download_folder)\n",
    "        return pd.read_csv(filename, sep='\\t')\n",
    "        #return filename\n",
    "    \n",
    "    def _about(self):\n",
    "        return '전국도시공원 표준데이타'"
   ]
  },
  {
   "cell_type": "code",
   "execution_count": 140,
   "metadata": {},
   "outputs": [],
   "source": [
    "a = JunkukDosiGongwon()"
   ]
  },
  {
   "cell_type": "code",
   "execution_count": 141,
   "metadata": {},
   "outputs": [
    {
     "ename": "IndexError",
     "evalue": "list index out of range",
     "output_type": "error",
     "traceback": [
      "\u001b[1;31m---------------------------------------------------------------------------\u001b[0m",
      "\u001b[1;31mIndexError\u001b[0m                                Traceback (most recent call last)",
      "\u001b[1;32m<ipython-input-141-6337901e6d6a>\u001b[0m in \u001b[0;36m<module>\u001b[1;34m\u001b[0m\n\u001b[1;32m----> 1\u001b[1;33m \u001b[0mdf\u001b[0m \u001b[1;33m=\u001b[0m \u001b[0ma\u001b[0m\u001b[1;33m.\u001b[0m\u001b[0mextract\u001b[0m\u001b[1;33m(\u001b[0m\u001b[1;33m)\u001b[0m\u001b[1;33m\u001b[0m\u001b[0m\n\u001b[0m",
      "\u001b[1;32m<ipython-input-139-3feb0f6c2492>\u001b[0m in \u001b[0;36mextract\u001b[1;34m(self)\u001b[0m\n\u001b[0;32m     75\u001b[0m         \u001b[0mself\u001b[0m\u001b[1;33m.\u001b[0m\u001b[0m__driver\u001b[0m\u001b[1;33m.\u001b[0m\u001b[0mfind_element_by_css_selector\u001b[0m\u001b[1;33m(\u001b[0m\u001b[1;34m'.single-download-btn'\u001b[0m\u001b[1;33m)\u001b[0m\u001b[1;33m.\u001b[0m\u001b[0mclick\u001b[0m\u001b[1;33m(\u001b[0m\u001b[1;33m)\u001b[0m\u001b[1;33m\u001b[0m\u001b[0m\n\u001b[0;32m     76\u001b[0m         \u001b[0mself\u001b[0m\u001b[1;33m.\u001b[0m\u001b[0m__driver\u001b[0m\u001b[1;33m.\u001b[0m\u001b[0mimplicitly_wait\u001b[0m\u001b[1;33m(\u001b[0m\u001b[1;36m30\u001b[0m\u001b[1;33m)\u001b[0m\u001b[1;33m\u001b[0m\u001b[0m\n\u001b[1;32m---> 77\u001b[1;33m         \u001b[0mfilename\u001b[0m \u001b[1;33m=\u001b[0m \u001b[0mPublicDataLoader\u001b[0m\u001b[1;33m.\u001b[0m\u001b[0m_find_latest_file\u001b[0m\u001b[1;33m(\u001b[0m\u001b[0mdownload_folder\u001b[0m\u001b[1;33m)\u001b[0m\u001b[1;33m\u001b[0m\u001b[0m\n\u001b[0m\u001b[0;32m     78\u001b[0m         \u001b[1;32mreturn\u001b[0m \u001b[0mpd\u001b[0m\u001b[1;33m.\u001b[0m\u001b[0mread_csv\u001b[0m\u001b[1;33m(\u001b[0m\u001b[0mfilename\u001b[0m\u001b[1;33m,\u001b[0m \u001b[0msep\u001b[0m\u001b[1;33m=\u001b[0m\u001b[1;34m'\\t'\u001b[0m\u001b[1;33m)\u001b[0m\u001b[1;33m\u001b[0m\u001b[0m\n\u001b[0;32m     79\u001b[0m         \u001b[1;31m#return filename\u001b[0m\u001b[1;33m\u001b[0m\u001b[1;33m\u001b[0m\u001b[0m\n",
      "\u001b[1;32m<ipython-input-139-3feb0f6c2492>\u001b[0m in \u001b[0;36m_find_latest_file\u001b[1;34m(path)\u001b[0m\n\u001b[0;32m     49\u001b[0m         \u001b[0mcounter\u001b[0m \u001b[1;33m=\u001b[0m \u001b[0mCounter\u001b[0m\u001b[1;33m(\u001b[0m\u001b[0mfile_list\u001b[0m\u001b[1;33m)\u001b[0m\u001b[1;33m\u001b[0m\u001b[0m\n\u001b[0;32m     50\u001b[0m         \u001b[0mordered\u001b[0m \u001b[1;33m=\u001b[0m \u001b[0msorted\u001b[0m\u001b[1;33m(\u001b[0m\u001b[0mcounter\u001b[0m\u001b[1;33m,\u001b[0m \u001b[0mkey\u001b[0m\u001b[1;33m=\u001b[0m\u001b[1;32mlambda\u001b[0m \u001b[0mx\u001b[0m\u001b[1;33m:\u001b[0m \u001b[0mx\u001b[0m\u001b[1;33m[\u001b[0m\u001b[1;36m1\u001b[0m\u001b[1;33m]\u001b[0m\u001b[1;33m,\u001b[0m \u001b[0mreverse\u001b[0m\u001b[1;33m=\u001b[0m\u001b[1;32mTrue\u001b[0m\u001b[1;33m)\u001b[0m\u001b[1;33m\u001b[0m\u001b[0m\n\u001b[1;32m---> 51\u001b[1;33m         \u001b[0m_\u001b[0m\u001b[1;33m,\u001b[0m \u001b[0mext\u001b[0m \u001b[1;33m=\u001b[0m \u001b[0mos\u001b[0m\u001b[1;33m.\u001b[0m\u001b[0mpath\u001b[0m\u001b[1;33m.\u001b[0m\u001b[0msplitext\u001b[0m\u001b[1;33m(\u001b[0m\u001b[0mordered\u001b[0m\u001b[1;33m[\u001b[0m\u001b[1;36m0\u001b[0m\u001b[1;33m]\u001b[0m\u001b[1;33m)\u001b[0m\u001b[1;33m\u001b[0m\u001b[0m\n\u001b[0m\u001b[0;32m     52\u001b[0m         \u001b[0mrenamed_filename\u001b[0m \u001b[1;33m=\u001b[0m \u001b[0mstr\u001b[0m\u001b[1;33m(\u001b[0m\u001b[0mdatetime\u001b[0m\u001b[1;33m.\u001b[0m\u001b[0mdatetime\u001b[0m\u001b[1;33m.\u001b[0m\u001b[0mnow\u001b[0m\u001b[1;33m(\u001b[0m\u001b[1;33m)\u001b[0m\u001b[1;33m.\u001b[0m\u001b[0mtoordinal\u001b[0m\u001b[1;33m(\u001b[0m\u001b[1;33m)\u001b[0m\u001b[1;33m)\u001b[0m \u001b[1;33m+\u001b[0m \u001b[0mext\u001b[0m\u001b[1;33m\u001b[0m\u001b[0m\n\u001b[0;32m     53\u001b[0m         \u001b[0mos\u001b[0m\u001b[1;33m.\u001b[0m\u001b[0msystem\u001b[0m\u001b[1;33m(\u001b[0m\u001b[1;34m'ren \"{}\" \"{}'\u001b[0m\u001b[1;33m.\u001b[0m\u001b[0mformat\u001b[0m\u001b[1;33m(\u001b[0m\u001b[0mos\u001b[0m\u001b[1;33m.\u001b[0m\u001b[0mpath\u001b[0m\u001b[1;33m.\u001b[0m\u001b[0mjoin\u001b[0m\u001b[1;33m(\u001b[0m\u001b[0mpath\u001b[0m\u001b[1;33m,\u001b[0m \u001b[0mordered\u001b[0m\u001b[1;33m[\u001b[0m\u001b[1;36m0\u001b[0m\u001b[1;33m]\u001b[0m\u001b[1;33m)\u001b[0m\u001b[1;33m,\u001b[0m \u001b[0mrenamed_filename\u001b[0m\u001b[1;33m)\u001b[0m\u001b[1;33m)\u001b[0m\u001b[1;33m\u001b[0m\u001b[0m\n",
      "\u001b[1;31mIndexError\u001b[0m: list index out of range"
     ]
    }
   ],
   "source": [
    "df = a.extract()"
   ]
  },
  {
   "cell_type": "code",
   "execution_count": 138,
   "metadata": {},
   "outputs": [],
   "source": [
    "del a"
   ]
  },
  {
   "cell_type": "code",
   "execution_count": 154,
   "metadata": {},
   "outputs": [],
   "source": [
    "f = open(r'C:\\Users\\S11711\\Downloads\\Text\\전국도시공원표준데이터 (1).xls', encoding='euc-kr')"
   ]
  },
  {
   "cell_type": "code",
   "execution_count": 153,
   "metadata": {},
   "outputs": [
    {
     "ename": "UnicodeDecodeError",
     "evalue": "'utf-8' codec can't decode byte 0xd0 in position 0: invalid continuation byte",
     "output_type": "error",
     "traceback": [
      "\u001b[1;31m---------------------------------------------------------------------------\u001b[0m",
      "\u001b[1;31mUnicodeDecodeError\u001b[0m                        Traceback (most recent call last)",
      "\u001b[1;32m<ipython-input-153-055d0c37aeda>\u001b[0m in \u001b[0;36m<module>\u001b[1;34m\u001b[0m\n\u001b[1;32m----> 1\u001b[1;33m \u001b[0mf\u001b[0m\u001b[1;33m.\u001b[0m\u001b[0mreadlines\u001b[0m\u001b[1;33m(\u001b[0m\u001b[1;33m)\u001b[0m\u001b[1;33m\u001b[0m\u001b[0m\n\u001b[0m",
      "\u001b[1;32mc:\\users\\s11711\\appdata\\local\\programs\\python\\python36\\lib\\codecs.py\u001b[0m in \u001b[0;36mdecode\u001b[1;34m(self, input, final)\u001b[0m\n\u001b[0;32m    319\u001b[0m         \u001b[1;31m# decode input (taking the buffer into account)\u001b[0m\u001b[1;33m\u001b[0m\u001b[1;33m\u001b[0m\u001b[0m\n\u001b[0;32m    320\u001b[0m         \u001b[0mdata\u001b[0m \u001b[1;33m=\u001b[0m \u001b[0mself\u001b[0m\u001b[1;33m.\u001b[0m\u001b[0mbuffer\u001b[0m \u001b[1;33m+\u001b[0m \u001b[0minput\u001b[0m\u001b[1;33m\u001b[0m\u001b[0m\n\u001b[1;32m--> 321\u001b[1;33m         \u001b[1;33m(\u001b[0m\u001b[0mresult\u001b[0m\u001b[1;33m,\u001b[0m \u001b[0mconsumed\u001b[0m\u001b[1;33m)\u001b[0m \u001b[1;33m=\u001b[0m \u001b[0mself\u001b[0m\u001b[1;33m.\u001b[0m\u001b[0m_buffer_decode\u001b[0m\u001b[1;33m(\u001b[0m\u001b[0mdata\u001b[0m\u001b[1;33m,\u001b[0m \u001b[0mself\u001b[0m\u001b[1;33m.\u001b[0m\u001b[0merrors\u001b[0m\u001b[1;33m,\u001b[0m \u001b[0mfinal\u001b[0m\u001b[1;33m)\u001b[0m\u001b[1;33m\u001b[0m\u001b[0m\n\u001b[0m\u001b[0;32m    322\u001b[0m         \u001b[1;31m# keep undecoded input until the next call\u001b[0m\u001b[1;33m\u001b[0m\u001b[1;33m\u001b[0m\u001b[0m\n\u001b[0;32m    323\u001b[0m         \u001b[0mself\u001b[0m\u001b[1;33m.\u001b[0m\u001b[0mbuffer\u001b[0m \u001b[1;33m=\u001b[0m \u001b[0mdata\u001b[0m\u001b[1;33m[\u001b[0m\u001b[0mconsumed\u001b[0m\u001b[1;33m:\u001b[0m\u001b[1;33m]\u001b[0m\u001b[1;33m\u001b[0m\u001b[0m\n",
      "\u001b[1;31mUnicodeDecodeError\u001b[0m: 'utf-8' codec can't decode byte 0xd0 in position 0: invalid continuation byte"
     ]
    }
   ],
   "source": [
    "f.readlines()"
   ]
  },
  {
   "cell_type": "code",
   "execution_count": null,
   "metadata": {},
   "outputs": [],
   "source": []
  },
  {
   "cell_type": "code",
   "execution_count": 39,
   "metadata": {},
   "outputs": [],
   "source": [
    "from selenium import webdriver\n",
    "from selenium.webdriver.chrome.options import Options\n",
    "from selenium.webdriver.common.keys import Keys\n",
    "from selenium.webdriver.common.by import By\n",
    "from selenium.webdriver.support.ui import WebDriverWait\n",
    "from selenium.webdriver.support import expected_conditions as EC\n",
    "\n",
    "options = Options()\n",
    "options.add_experimental_option('prefs', {\n",
    "    'download.default_directory': r'c:\\Users\\s11711\\downloads\\Text',\n",
    "    'download.prompt_for_download': False,\n",
    "    'download.directory_upgrade': True,\n",
    "    'safebrowsing.enabled': True\n",
    "})\n",
    "driver = webdriver.Chrome('d:/mydevroot/ws/webdrivers/chromedriver.exe',options=options)"
   ]
  },
  {
   "cell_type": "code",
   "execution_count": null,
   "metadata": {},
   "outputs": [],
   "source": []
  },
  {
   "cell_type": "code",
   "execution_count": null,
   "metadata": {},
   "outputs": [],
   "source": []
  },
  {
   "cell_type": "markdown",
   "metadata": {},
   "source": [
    "## 전국도시공원 표준데이타(\n",
    "\n",
    "* 출처: 오늘코드\n",
    "* Youtube: https://www.youtube.com/watch?v=uJ6QO6jLBWA\n",
    "* 데이타: https://www.data.go.kr/dataset/15012890/standard.do"
   ]
  },
  {
   "cell_type": "code",
   "execution_count": 49,
   "metadata": {},
   "outputs": [],
   "source": [
    "import warnings\n",
    "warnings.filterwarnings('ignore')"
   ]
  },
  {
   "cell_type": "code",
   "execution_count": 50,
   "metadata": {},
   "outputs": [],
   "source": [
    "import pandas as pd\n",
    "import numpy as np\n",
    "from plotnine import *\n",
    "import folium\n",
    "import re"
   ]
  },
  {
   "cell_type": "code",
   "execution_count": 68,
   "metadata": {},
   "outputs": [
    {
     "data": {
      "text/plain": [
       "(16096, 19)"
      ]
     },
     "execution_count": 68,
     "metadata": {},
     "output_type": "execute_result"
    }
   ],
   "source": [
    "#-*- encoding: utf-8 -*-\n",
    "park = pd.read_csv('data\\park.csv', sep='\\t')\n",
    "park.shape"
   ]
  },
  {
   "cell_type": "code",
   "execution_count": null,
   "metadata": {},
   "outputs": [],
   "source": [
    "park.columns"
   ]
  },
  {
   "cell_type": "code",
   "execution_count": null,
   "metadata": {},
   "outputs": [],
   "source": [
    "park.head(5)"
   ]
  },
  {
   "cell_type": "code",
   "execution_count": null,
   "metadata": {},
   "outputs": [],
   "source": [
    "park.isnull().sum() # 결측치 검사"
   ]
  },
  {
   "cell_type": "code",
   "execution_count": null,
   "metadata": {},
   "outputs": [],
   "source": [
    "import missingno as msno\n",
    "msno.matrix(park)"
   ]
  },
  {
   "cell_type": "code",
   "execution_count": null,
   "metadata": {},
   "outputs": [],
   "source": []
  }
 ],
 "metadata": {
  "kernelspec": {
   "display_name": "Python 3",
   "language": "python",
   "name": "python3"
  },
  "language_info": {
   "codemirror_mode": {
    "name": "ipython",
    "version": 3
   },
   "file_extension": ".py",
   "mimetype": "text/x-python",
   "name": "python",
   "nbconvert_exporter": "python",
   "pygments_lexer": "ipython3",
   "version": "3.6.6rc1"
  }
 },
 "nbformat": 4,
 "nbformat_minor": 2
}
