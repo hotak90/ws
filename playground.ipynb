{
 "cells": [
  {
   "cell_type": "code",
   "execution_count": null,
   "metadata": {},
   "outputs": [],
   "source": [
    "import numpy as np"
   ]
  },
  {
   "cell_type": "code",
   "execution_count": null,
   "metadata": {},
   "outputs": [],
   "source": [
    "tensor = np.arange(32).reshape([4,2,4])"
   ]
  },
  {
   "cell_type": "code",
   "execution_count": null,
   "metadata": {},
   "outputs": [],
   "source": [
    "tensor"
   ]
  },
  {
   "cell_type": "code",
   "execution_count": null,
   "metadata": {},
   "outputs": [],
   "source": [
    "np.sum(tensor, axis=0)"
   ]
  },
  {
   "cell_type": "code",
   "execution_count": null,
   "metadata": {},
   "outputs": [],
   "source": [
    "np.sum(tensor, axis=1)"
   ]
  },
  {
   "cell_type": "code",
   "execution_count": null,
   "metadata": {},
   "outputs": [],
   "source": [
    "np.sum(tensor, axis=2)"
   ]
  },
  {
   "cell_type": "code",
   "execution_count": null,
   "metadata": {},
   "outputs": [],
   "source": [
    "np.ndim(tensor)"
   ]
  },
  {
   "cell_type": "markdown",
   "metadata": {},
   "source": [
    "# Ground 2"
   ]
  },
  {
   "cell_type": "code",
   "execution_count": null,
   "metadata": {},
   "outputs": [],
   "source": [
    "import numpy as np"
   ]
  },
  {
   "cell_type": "code",
   "execution_count": null,
   "metadata": {},
   "outputs": [],
   "source": [
    "m = np.arange(6).reshape([2,3])"
   ]
  },
  {
   "cell_type": "code",
   "execution_count": null,
   "metadata": {},
   "outputs": [],
   "source": [
    "np.sum(m, axis=0)"
   ]
  },
  {
   "cell_type": "code",
   "execution_count": null,
   "metadata": {},
   "outputs": [],
   "source": [
    "np.sum(m, axis=1)"
   ]
  },
  {
   "cell_type": "markdown",
   "metadata": {},
   "source": [
    "# Ground 3"
   ]
  },
  {
   "cell_type": "code",
   "execution_count": null,
   "metadata": {},
   "outputs": [],
   "source": [
    "from tensorflow.python.client import device_lib"
   ]
  },
  {
   "cell_type": "code",
   "execution_count": null,
   "metadata": {},
   "outputs": [],
   "source": [
    "device_lib.list_local_devices()"
   ]
  },
  {
   "cell_type": "markdown",
   "metadata": {},
   "source": [
    "# Inspection"
   ]
  },
  {
   "cell_type": "code",
   "execution_count": null,
   "metadata": {},
   "outputs": [],
   "source": [
    "import inspect"
   ]
  },
  {
   "cell_type": "code",
   "execution_count": null,
   "metadata": {},
   "outputs": [],
   "source": [
    "def scan(obj):\n",
    "    scaned = {}\n",
    "    scaned['ismodule'] = inspect.ismodule(obj)\n",
    "    scaned['isclass'] = inspect.isclass(obj)\n",
    "    scaned['ismethod'] = inspect.ismethod(obj)\n",
    "    scaned['isfunction'] = inspect.isfunction(obj)\n",
    "    scaned['isgeneratorfunction'] = inspect.isgeneratorfunction(obj)\n",
    "    scaned['isgenerator'] = inspect.isgenerator(obj)\n",
    "    scaned['iscoroutinefunction'] = inspect.iscoroutinefunction(obj)\n",
    "    scaned['iscoroutine'] = inspect.iscoroutine(obj)\n",
    "    scaned['isawaitable'] = inspect.isawaitable(obj)\n",
    "    scaned['isasyncgenfunction'] = inspect.isasyncgenfunction(obj)\n",
    "    scaned['isasyncgen'] = inspect.isasyncgen(obj)\n",
    "    scaned['istraceback'] = inspect.istraceback(obj)\n",
    "    scaned['isframe'] = inspect.isframe(obj)\n",
    "    scaned['iscode'] = inspect.iscode(obj)\n",
    "    scaned['isbuiltin'] = inspect.isbuiltin(obj)\n",
    "    scaned['isroutine'] = inspect.isroutine(obj)\n",
    "    scaned['isabstract'] = inspect.isabstract(obj)\n",
    "    scaned['ismethoddescriptor'] = inspect.ismethoddescriptor(obj)\n",
    "    scaned['isdatadescriptor'] = inspect.isdatadescriptor(obj)\n",
    "    scaned['isgetsetdescriptor'] = inspect.isgetsetdescriptor(obj)\n",
    "    scaned['ismemberdescriptor'] = inspect.ismemberdescriptor(obj)\n",
    "    \n",
    "    for v in [k for k in scaned.keys() if scaned[k] == True]:\n",
    "        print('{} = True'.format(v))\n"
   ]
  },
  {
   "cell_type": "markdown",
   "metadata": {},
   "source": [
    "# Web Crawling"
   ]
  },
  {
   "cell_type": "markdown",
   "metadata": {},
   "source": [
    "#### webdriver 사용하여 엑셀 파일 다운로드"
   ]
  },
  {
   "cell_type": "code",
   "execution_count": null,
   "metadata": {},
   "outputs": [],
   "source": [
    "from selenium import webdriver\n",
    "\n",
    "driver = webdriver.Chrome('d:/mydevroot/ws/webdrivers/chromedriver.exe')\n",
    "#driver2 = webdriver.Edge('d:/mydevroot/ws/webdrivers/MicrosoftWebDriver.exe')\n",
    "\n",
    "driver.get('http://data.gm.go.kr/portal/data/service/selectServicePage.do?infId=00915CNL1L977ETDR65913')\n",
    "#sheet-excel-button\n",
    "\n",
    "from selenium.webdriver.common.keys import Keys\n",
    "e = driver.find_element_by_id('sheet-excel-button')\n",
    "\n",
    "e.click()"
   ]
  },
  {
   "cell_type": "markdown",
   "metadata": {},
   "source": [
    "#### 다운로드된 파일 찾기"
   ]
  },
  {
   "cell_type": "code",
   "execution_count": null,
   "metadata": {},
   "outputs": [],
   "source": [
    "download_folder = os.path.join(os.getenv('USERPROFILE'), 'Downloads')\n",
    "\n",
    "file_list = { e.name: e.stat().st_ctime for e in os.scandir(download_folder) if e.is_file() == True }\n",
    "\n",
    "from collections import Counter\n",
    "counter = Counter(file_list)\n",
    "ordered = sorted(counter, key=lambda x: x[1], reverse=True)\n",
    "\n",
    "downloaded_file = os.path.join(download_folder, ordered[0])"
   ]
  },
  {
   "cell_type": "markdown",
   "metadata": {},
   "source": [
    "#### pandas 로 엑셀파일 읽기"
   ]
  },
  {
   "cell_type": "code",
   "execution_count": null,
   "metadata": {},
   "outputs": [],
   "source": [
    "import numpy as np\n",
    "import pandas as pd"
   ]
  },
  {
   "cell_type": "code",
   "execution_count": null,
   "metadata": {},
   "outputs": [],
   "source": [
    "df = pd.read_excel(downloaded_file)"
   ]
  },
  {
   "cell_type": "code",
   "execution_count": null,
   "metadata": {},
   "outputs": [],
   "source": [
    "np.sum(df.isna(), axis=0)"
   ]
  },
  {
   "cell_type": "code",
   "execution_count": null,
   "metadata": {},
   "outputs": [],
   "source": [
    "df"
   ]
  },
  {
   "cell_type": "markdown",
   "metadata": {},
   "source": [
    "## Windows Registry"
   ]
  },
  {
   "cell_type": "code",
   "execution_count": null,
   "metadata": {},
   "outputs": [],
   "source": [
    "import winreg"
   ]
  },
  {
   "cell_type": "code",
   "execution_count": null,
   "metadata": {},
   "outputs": [],
   "source": [
    "hkey = winreg.OpenKey(winreg.HKEY_CURRENT_USER, 'Control Panel\\\\Desktop')"
   ]
  },
  {
   "cell_type": "code",
   "execution_count": null,
   "metadata": {},
   "outputs": [],
   "source": [
    "def confirm_key(key, sub_key, reg_dt, value):\n",
    "    try:\n",
    "        wk = winreg.OpenKeyEx(key, sub_key, 0, winreg.KEY_ALL_ACCESS)\n",
    "    except FileNotFoundError:\n",
    "        wk = winreg.CreateKeyEx(key, sub_key, 0, winreg.KEY_ALL_ACCESS)\n",
    "    finally:\n",
    "        winreg.SetValueEx(key, sub_key, 0, reg_dt, value)\n",
    "        wk.Close()"
   ]
  },
  {
   "cell_type": "code",
   "execution_count": null,
   "metadata": {},
   "outputs": [],
   "source": [
    "#confirm_key(hkey, 'KKK', winreg.REG_DWORD, 10)\n",
    "confirm_key(hkey, 'SCRNSAVE.EXE', winreg.REG_SZ, 'With POSCO.scr')"
   ]
  },
  {
   "cell_type": "markdown",
   "metadata": {},
   "source": [
    "## OpenCV"
   ]
  },
  {
   "cell_type": "markdown",
   "metadata": {},
   "source": [
    "참조사이트: http://blog.naver.com/samsjang/220501624273"
   ]
  },
  {
   "cell_type": "code",
   "execution_count": null,
   "metadata": {},
   "outputs": [],
   "source": [
    "%matplotlib inline\n",
    "import cv2\n",
    "import numpy as np\n",
    "import matplotlib.pyplot as plt"
   ]
  },
  {
   "cell_type": "code",
   "execution_count": null,
   "metadata": {},
   "outputs": [],
   "source": [
    "img = cv2.imread('images/car.png', cv2.IMREAD_COLOR)"
   ]
  },
  {
   "cell_type": "code",
   "execution_count": null,
   "metadata": {},
   "outputs": [],
   "source": [
    "cv2.imshow('model', img)"
   ]
  },
  {
   "cell_type": "code",
   "execution_count": null,
   "metadata": {},
   "outputs": [],
   "source": [
    "cv2.waitKey(0)"
   ]
  },
  {
   "cell_type": "code",
   "execution_count": null,
   "metadata": {},
   "outputs": [],
   "source": [
    "cv2.destroyAllWindows()"
   ]
  },
  {
   "cell_type": "markdown",
   "metadata": {},
   "source": [
    "### camera"
   ]
  },
  {
   "cell_type": "code",
   "execution_count": null,
   "metadata": {},
   "outputs": [],
   "source": [
    "cap = cv2.VideoCapture(0)\n",
    "\n",
    "cap.set(3, 480)\n",
    "cap.set(4, 320)"
   ]
  },
  {
   "cell_type": "code",
   "execution_count": null,
   "metadata": {},
   "outputs": [],
   "source": [
    "while True:\n",
    "    ret, frame = cap.read()\n",
    "    gray = cv2.cvtColor(frame, cv2.COLOR_BGR2GRAY)\n",
    "    cv2.imshow('video', gray)\n",
    "    k = cv2.waitKey(1) & 0xFF\n",
    "    if k == 27: // ESC\n",
    "        break\n",
    "        \n",
    "cap.release()\n",
    "cv2.destroyAllWindows()        "
   ]
  },
  {
   "cell_type": "markdown",
   "metadata": {},
   "source": [
    "## Web Scrapping"
   ]
  },
  {
   "cell_type": "code",
   "execution_count": null,
   "metadata": {},
   "outputs": [],
   "source": [
    "import warnings"
   ]
  },
  {
   "cell_type": "code",
   "execution_count": null,
   "metadata": {},
   "outputs": [],
   "source": [
    "warnings.filterwarnings('ignore')"
   ]
  },
  {
   "cell_type": "code",
   "execution_count": null,
   "metadata": {},
   "outputs": [],
   "source": [
    "from selenium import webdriver\n",
    "from selenium.webdriver.common.keys import Keys\n",
    "from bs4 import BeautifulSoup\n",
    "\n",
    "driver = webdriver.Chrome('d:/mydevroot/ws/webdrivers/chromedriver.exe')\n",
    "\n",
    "driver.get('https://www.data.go.kr')"
   ]
  },
  {
   "cell_type": "code",
   "execution_count": null,
   "metadata": {},
   "outputs": [],
   "source": [
    "driver.set_window_size(1696, 1026)\n",
    "driver.find_element_by_link_text('데이터셋').click()\n",
    "driver.find_element_by_link_text('제공기관필터').click()\n",
    "driver.find_element_by_css_selector('#insttFFList > li > a > span').click()\n",
    "driver.find_element_by_link_text('파일데이터 결과 더보기').click()\n",
    "driver.find_element_by_link_text('2').click()\n",
    "driver.file_detector()"
   ]
  },
  {
   "cell_type": "code",
   "execution_count": null,
   "metadata": {},
   "outputs": [],
   "source": [
    "driver.close()"
   ]
  },
  {
   "cell_type": "markdown",
   "metadata": {},
   "source": [
    "## 도시공원"
   ]
  },
  {
   "cell_type": "code",
   "execution_count": null,
   "metadata": {},
   "outputs": [],
   "source": [
    "!pip show plotnine"
   ]
  },
  {
   "cell_type": "code",
   "execution_count": null,
   "metadata": {},
   "outputs": [],
   "source": [
    "!pip install folium"
   ]
  },
  {
   "cell_type": "code",
   "execution_count": null,
   "metadata": {},
   "outputs": [],
   "source": [
    "%pwd"
   ]
  },
  {
   "cell_type": "code",
   "execution_count": null,
   "metadata": {},
   "outputs": [],
   "source": [
    "import pandas as pd\n",
    "import numpy as np\n",
    "from plotnine import *\n",
    "import re\n",
    "import folium"
   ]
  },
  {
   "cell_type": "code",
   "execution_count": null,
   "metadata": {},
   "outputs": [],
   "source": [
    "#park = pd.read_csv('./data/전국도시공원표준데이터.csv', encoding='euc-kr')\n",
    "!dir data"
   ]
  },
  {
   "cell_type": "markdown",
   "metadata": {},
   "source": [
    "## EP Login Script"
   ]
  },
  {
   "cell_type": "code",
   "execution_count": null,
   "metadata": {},
   "outputs": [],
   "source": [
    "from selenium import webdriver\n",
    "from selenium.webdriver.common.keys import Keys\n",
    "from bs4 import BeautifulSoup\n",
    "\n",
    "driver = webdriver.Chrome('d:/mydevroot/ws/webdrivers/chromedriver.exe')\n",
    "driver.get('*******')"
   ]
  },
  {
   "cell_type": "code",
   "execution_count": null,
   "metadata": {},
   "outputs": [],
   "source": [
    "driver.window_handles"
   ]
  },
  {
   "cell_type": "code",
   "execution_count": null,
   "metadata": {},
   "outputs": [],
   "source": [
    "driver.maximize_window()\n",
    "driver.find_element_by_id('username').send_keys('*******')\n",
    "driver.find_element_by_id('password').send_keys('*******')\n",
    "driver.find_element_by_id('Login').submit()"
   ]
  },
  {
   "cell_type": "code",
   "execution_count": null,
   "metadata": {},
   "outputs": [],
   "source": [
    "driver.switch_to.alert.accept()"
   ]
  },
  {
   "cell_type": "code",
   "execution_count": null,
   "metadata": {},
   "outputs": [],
   "source": [
    "driver.window_handles"
   ]
  },
  {
   "cell_type": "code",
   "execution_count": null,
   "metadata": {},
   "outputs": [],
   "source": [
    "driver.find_element_by_css_selector('img[title=\"전자결재\"]').click()"
   ]
  },
  {
   "cell_type": "code",
   "execution_count": null,
   "metadata": {},
   "outputs": [],
   "source": [
    "driver.window_handles"
   ]
  },
  {
   "cell_type": "code",
   "execution_count": null,
   "metadata": {},
   "outputs": [],
   "source": [
    "driver.switch_to.window(driver.window_handles[2])"
   ]
  },
  {
   "cell_type": "code",
   "execution_count": null,
   "metadata": {},
   "outputs": [],
   "source": [
    "driver.switch_to.frame(driver.find_element_by_css_selector('iframe[name=REA_contents'))"
   ]
  },
  {
   "cell_type": "code",
   "execution_count": null,
   "metadata": {},
   "outputs": [],
   "source": [
    "driver.find_element_by_id('rptHighLevel_ctl02_rptMiddleLevel_ctl01_lnkName').click()"
   ]
  },
  {
   "cell_type": "code",
   "execution_count": null,
   "metadata": {},
   "outputs": [],
   "source": [
    "driver.implicitly_wait(1)"
   ]
  },
  {
   "cell_type": "code",
   "execution_count": null,
   "metadata": {},
   "outputs": [],
   "source": [
    "driver.close()"
   ]
  },
  {
   "cell_type": "code",
   "execution_count": null,
   "metadata": {},
   "outputs": [],
   "source": [
    "driver.quit()"
   ]
  },
  {
   "cell_type": "markdown",
   "metadata": {},
   "source": [
    "## Data Loader\n",
    "\n",
    "* "
   ]
  },
  {
   "cell_type": "code",
   "execution_count": null,
   "metadata": {},
   "outputs": [],
   "source": [
    "import abc\n",
    "import pandas as pd\n",
    "from selenium import webdriver\n",
    "from selenium.webdriver.chrome.options import Options\n",
    "from selenium.webdriver.common.keys import Keys\n",
    "from selenium.webdriver.common.by import By\n",
    "from selenium.webdriver.support.ui import WebDriverWait\n",
    "from selenium.webdriver.support import expected_conditions as EC\n",
    "import os\n",
    "import os.path\n",
    "import datetime\n",
    "\n",
    "class PublicDataLoader(metaclass=abc.ABCMeta):\n",
    "    \"\"\"공공데이타 포탈에 공개된 데이타를 추출하여 pandas DataFrame 으로 반환\n",
    "    Chrome available preference: https://cs.chromium.org/chromium/src/chrome/common/pref_names.cc\n",
    "    \"\"\"\n",
    "    \n",
    "    def __init__(self, url):\n",
    "        self._url = url\n",
    "        \n",
    "    def load_as_dataframe(self):\n",
    "        return self.extract()\n",
    "    \n",
    "    @property\n",
    "    def url(self):\n",
    "        return self._url\n",
    "    \n",
    "    @abc.abstractmethod\n",
    "    def extract(self):\n",
    "        pass\n",
    "    \n",
    "    @property\n",
    "    def about(self):\n",
    "        return self._about()\n",
    "    \n",
    "    @abc.abstractclassmethod\n",
    "    def _about():\n",
    "        pass\n",
    "    \n",
    "    def _create_webdriver(self, options=None):\n",
    "        return webdriver.Chrome('d:/mydevroot/ws/webdrivers/chromedriver.exe', options=options)\n",
    "    \n",
    "    @staticmethod\n",
    "    def _find_latest_file(path=None):\n",
    "        import os\n",
    "        from collections import Counter\n",
    "        path = os.getcwd() if path==None else path\n",
    "        file_list = {e.name: e.stat().st_ctime for e in os.scandir(path) if e.is_file() == True}\n",
    "        counter = Counter(file_list)\n",
    "        ordered = sorted(counter, key=lambda x: x[1], reverse=True)\n",
    "        _, ext = os.path.splitext(ordered[0])\n",
    "        renamed_filename = str(datetime.datetime.now().toordinal()) + ext  \n",
    "        os.system('ren \"{}\" \"{}'.format(os.path.join(path, ordered[0]), renamed_filename))            \n",
    "        return  os.path.join(path, renamed_filename)\n",
    "    \n",
    "class JunkukDosiGongwon(PublicDataLoader):\n",
    "    def __init__(self):\n",
    "        super().__init__('https://www.data.go.kr/dataset/15012890/standard.do')\n",
    "        self.__driver = None\n",
    "        \n",
    "    def __del__(self):\n",
    "        self.__driver.close()\n",
    "        \n",
    "    def extract(self):\n",
    "        download_folder = r'c:\\Users\\s11711\\downloads\\Text'\n",
    "        options = Options()\n",
    "        options.add_experimental_option('prefs', {\n",
    "            'download.default_directory': download_folder,\n",
    "            'download.prompt_for_download': False,\n",
    "            'download.directory_upgrade': True,\n",
    "            'safebrowsing.enabled': True\n",
    "        })\n",
    "        self.__driver = super()._create_webdriver(options)\n",
    "        self.__driver.get(self.url)\n",
    "        self.__driver.find_element_by_css_selector('.single-download-btn').click()\n",
    "        self.__driver.implicitly_wait(5)\n",
    "        filename = PublicDataLoader._find_latest_file(download_folder)\n",
    "        return pd.read_csv(filename, sep='\\t')\n",
    "        #return filename\n",
    "    \n",
    "    def _about(self):\n",
    "        return '전국도시공원 표준데이타'"
   ]
  },
  {
   "cell_type": "code",
   "execution_count": null,
   "metadata": {},
   "outputs": [],
   "source": [
    "a = JunkukDosiGongwon()"
   ]
  },
  {
   "cell_type": "code",
   "execution_count": null,
   "metadata": {},
   "outputs": [],
   "source": [
    "df = a.extract()"
   ]
  },
  {
   "cell_type": "code",
   "execution_count": null,
   "metadata": {},
   "outputs": [],
   "source": [
    "del a"
   ]
  },
  {
   "cell_type": "code",
   "execution_count": null,
   "metadata": {},
   "outputs": [],
   "source": [
    "f = open(r'C:\\Users\\S11711\\Downloads\\Text\\전국도시공원표준데이터 (1).xls', encoding='euc-kr')"
   ]
  },
  {
   "cell_type": "code",
   "execution_count": null,
   "metadata": {},
   "outputs": [],
   "source": [
    "f.readlines()"
   ]
  },
  {
   "cell_type": "code",
   "execution_count": null,
   "metadata": {},
   "outputs": [],
   "source": []
  },
  {
   "cell_type": "code",
   "execution_count": null,
   "metadata": {},
   "outputs": [],
   "source": [
    "from selenium import webdriver\n",
    "from selenium.webdriver.chrome.options import Options\n",
    "from selenium.webdriver.common.keys import Keys\n",
    "from selenium.webdriver.common.by import By\n",
    "from selenium.webdriver.support.ui import WebDriverWait\n",
    "from selenium.webdriver.support import expected_conditions as EC\n",
    "\n",
    "options = Options()\n",
    "options.add_experimental_option('prefs', {\n",
    "    'download.default_directory': r'c:\\Users\\s11711\\downloads\\Text',\n",
    "    'download.prompt_for_download': False,\n",
    "    'download.directory_upgrade': True,\n",
    "    'safebrowsing.enabled': True\n",
    "})\n",
    "driver = webdriver.Chrome('d:/mydevroot/ws/webdrivers/chromedriver.exe',options=options)"
   ]
  },
  {
   "cell_type": "code",
   "execution_count": null,
   "metadata": {},
   "outputs": [],
   "source": []
  },
  {
   "cell_type": "code",
   "execution_count": null,
   "metadata": {},
   "outputs": [],
   "source": []
  },
  {
   "cell_type": "markdown",
   "metadata": {},
   "source": [
    "## 전국도시공원 표준데이타\n",
    "\n",
    "* 출처: 오늘코드\n",
    "* Youtube: https://www.youtube.com/watch?v=uJ6QO6jLBWA\n",
    "* 데이타: https://www.data.go.kr/dataset/15012890/standard.do"
   ]
  },
  {
   "cell_type": "code",
   "execution_count": null,
   "metadata": {},
   "outputs": [],
   "source": [
    "import warnings\n",
    "warnings.filterwarnings('ignore')"
   ]
  },
  {
   "cell_type": "code",
   "execution_count": null,
   "metadata": {},
   "outputs": [],
   "source": [
    "import pandas as pd\n",
    "import numpy as np\n",
    "from plotnine import *\n",
    "import folium\n",
    "import re"
   ]
  },
  {
   "cell_type": "code",
   "execution_count": null,
   "metadata": {},
   "outputs": [],
   "source": [
    "#-*- encoding: utf-8 -*-\n",
    "park = pd.read_excel('data\\전국도시공원표준데이터.xls', encoding='euc-kr')\n",
    "park.shape"
   ]
  },
  {
   "cell_type": "code",
   "execution_count": null,
   "metadata": {},
   "outputs": [],
   "source": [
    "park.head(5)"
   ]
  },
  {
   "cell_type": "code",
   "execution_count": null,
   "metadata": {},
   "outputs": [],
   "source": [
    "import missingno as msno\n",
    "msno.matrix(park)"
   ]
  },
  {
   "cell_type": "code",
   "execution_count": null,
   "metadata": {},
   "outputs": [],
   "source": [
    "park.info()"
   ]
  },
  {
   "cell_type": "code",
   "execution_count": null,
   "metadata": {},
   "outputs": [],
   "source": [
    "park.isnull().sum() # 결측치 검사"
   ]
  },
  {
   "cell_type": "code",
   "execution_count": null,
   "metadata": {},
   "outputs": [],
   "source": [
    "park.columns"
   ]
  },
  {
   "cell_type": "code",
   "execution_count": null,
   "metadata": {},
   "outputs": [],
   "source": [
    "park.drop(columns=['공원보유시설(운동시설)', '공원보유시설(유희시설)', '공원보유시설(편익시설)', '공원보유시설(교양시설)',\n",
    "       '공원보유시설(기타시설)', '지정고시일', '관리기관명', '제공기관코드', '제공기관명'], inplace=True)"
   ]
  },
  {
   "cell_type": "code",
   "execution_count": null,
   "metadata": {},
   "outputs": [],
   "source": [
    "park.shape"
   ]
  },
  {
   "cell_type": "code",
   "execution_count": null,
   "metadata": {},
   "outputs": [],
   "source": [
    "(ggplot(park) + aes(x='경도', y='위도') + geom_point() + theme(text=element_text(family='NanumBarunGothic')))"
   ]
  },
  {
   "cell_type": "markdown",
   "metadata": {},
   "source": [
    "### 데이타 전처리"
   ]
  },
  {
   "cell_type": "code",
   "execution_count": null,
   "metadata": {},
   "outputs": [],
   "source": [
    "park.dtypes"
   ]
  },
  {
   "cell_type": "code",
   "execution_count": null,
   "metadata": {},
   "outputs": [],
   "source": [
    "park['공원면적비율'] = park['공원면적'].apply(lambda x: np.sqrt(x) * 0.01)\n",
    "park['공원면적비율'].head()"
   ]
  },
  {
   "cell_type": "code",
   "execution_count": null,
   "metadata": {},
   "outputs": [],
   "source": [
    "park.isnull().sum()"
   ]
  },
  {
   "cell_type": "code",
   "execution_count": null,
   "metadata": {},
   "outputs": [],
   "source": [
    "park['소재지도로명주소'].fillna(park['소재지지번주소'], inplace=True)"
   ]
  },
  {
   "cell_type": "code",
   "execution_count": null,
   "metadata": {},
   "outputs": [],
   "source": [
    "park['소재지도로명주소'].head(10)"
   ]
  },
  {
   "cell_type": "code",
   "execution_count": null,
   "metadata": {},
   "outputs": [],
   "source": [
    "park['시도']=park['소재지도로명주소'].str.split(' ', expand=True)[0]"
   ]
  },
  {
   "cell_type": "code",
   "execution_count": null,
   "metadata": {},
   "outputs": [],
   "source": [
    "park[['시도','소재지도로명주소']]"
   ]
  },
  {
   "cell_type": "code",
   "execution_count": null,
   "metadata": {},
   "outputs": [],
   "source": [
    "park['구군']=park['소재지도로명주소'].str.split(' ', expand=True)[1]\n",
    "park.head(3)"
   ]
  },
  {
   "cell_type": "code",
   "execution_count": null,
   "metadata": {},
   "outputs": [],
   "source": [
    "park[['위도','경도']].describe()"
   ]
  },
  {
   "cell_type": "code",
   "execution_count": null,
   "metadata": {},
   "outputs": [],
   "source": [
    "park_loc_notnull = park.loc[(park['경도'] < 132) & park['시도'].notnull()]"
   ]
  },
  {
   "cell_type": "code",
   "execution_count": null,
   "metadata": {},
   "outputs": [],
   "source": [
    "park_loc_notnull.shape"
   ]
  },
  {
   "cell_type": "code",
   "execution_count": null,
   "metadata": {},
   "outputs": [],
   "source": [
    "park.loc[(park['경도'] >= 132)]"
   ]
  },
  {
   "cell_type": "code",
   "execution_count": null,
   "metadata": {},
   "outputs": [],
   "source": [
    "park_loc_notnull['시도'].value_counts()"
   ]
  },
  {
   "cell_type": "markdown",
   "metadata": {},
   "source": [
    "#### 시도별 공원데이타"
   ]
  },
  {
   "cell_type": "code",
   "execution_count": null,
   "metadata": {},
   "outputs": [],
   "source": [
    "(ggplot(park_loc_notnull)\n",
    " + aes(x='경도', y='위도', color='시도')\n",
    " + geom_point()\n",
    " + theme(text=element_text(family='NanumBarunGothic'))\n",
    ")"
   ]
  },
  {
   "cell_type": "markdown",
   "metadata": {},
   "source": [
    "#### 공원구분별 분포"
   ]
  },
  {
   "cell_type": "code",
   "execution_count": null,
   "metadata": {},
   "outputs": [],
   "source": [
    "(ggplot(park_loc_notnull)\n",
    " + aes(x='경도', y='위도', color='공원구분', size='공원면적비율')\n",
    " + geom_point()\n",
    " + theme(text=element_text(family='NanumBarunGothic'))\n",
    ")"
   ]
  },
  {
   "cell_type": "markdown",
   "metadata": {},
   "source": [
    "#### 어린이 공원 제외한 공원 분포"
   ]
  },
  {
   "cell_type": "code",
   "execution_count": 25,
   "metadata": {},
   "outputs": [
    {
     "ename": "NameError",
     "evalue": "name 'park_loc_notnull' is not defined",
     "output_type": "error",
     "traceback": [
      "\u001b[1;31m---------------------------------------------------------------------------\u001b[0m",
      "\u001b[1;31mNameError\u001b[0m                                 Traceback (most recent call last)",
      "\u001b[1;32m<ipython-input-25-8c9f1183edb8>\u001b[0m in \u001b[0;36m<module>\u001b[1;34m\u001b[0m\n\u001b[0;32m      2\u001b[0m  \u001b[1;33m+\u001b[0m \u001b[0maes\u001b[0m\u001b[1;33m(\u001b[0m\u001b[0mx\u001b[0m\u001b[1;33m=\u001b[0m\u001b[1;34m'경도'\u001b[0m\u001b[1;33m,\u001b[0m \u001b[0my\u001b[0m\u001b[1;33m=\u001b[0m\u001b[1;34m'위도'\u001b[0m\u001b[1;33m,\u001b[0m \u001b[0mcolor\u001b[0m\u001b[1;33m=\u001b[0m\u001b[1;34m'공원구분'\u001b[0m\u001b[1;33m,\u001b[0m \u001b[0msize\u001b[0m\u001b[1;33m=\u001b[0m\u001b[1;34m'공원면적비율'\u001b[0m\u001b[1;33m)\u001b[0m\u001b[1;33m\u001b[0m\u001b[0m\n\u001b[0;32m      3\u001b[0m  \u001b[1;33m+\u001b[0m \u001b[0mgeom_point\u001b[0m\u001b[1;33m(\u001b[0m\u001b[0malpha\u001b[0m\u001b[1;33m=\u001b[0m\u001b[1;36m0.2\u001b[0m\u001b[1;33m)\u001b[0m\u001b[1;33m\u001b[0m\u001b[0m\n\u001b[1;32m----> 4\u001b[1;33m  \u001b[1;33m+\u001b[0m \u001b[0mtheme\u001b[0m\u001b[1;33m(\u001b[0m\u001b[0mtext\u001b[0m\u001b[1;33m=\u001b[0m\u001b[0melement_text\u001b[0m\u001b[1;33m(\u001b[0m\u001b[0mfamily\u001b[0m\u001b[1;33m=\u001b[0m\u001b[1;34m'Malgun Gothic'\u001b[0m\u001b[1;33m)\u001b[0m\u001b[1;33m)\u001b[0m\u001b[1;33m\u001b[0m\u001b[0m\n\u001b[0m\u001b[0;32m      5\u001b[0m )\n",
      "\u001b[1;31mNameError\u001b[0m: name 'park_loc_notnull' is not defined"
     ]
    }
   ],
   "source": [
    "(ggplot(park_loc_notnull.loc[park_loc_notnull['공원구분'] != '어린이공원'])\n",
    " + aes(x='경도', y='위도', color='공원구분', size='공원면적비율')\n",
    " + geom_point(alpha=0.2)\n",
    " + theme(text=element_text(family='NanumBarunGothic'))\n",
    ")"
   ]
  },
  {
   "cell_type": "code",
   "execution_count": null,
   "metadata": {},
   "outputs": [],
   "source": [
    "do = pd.DataFrame(park['시도'].value_counts())\n",
    "do_normalize = pd.DataFrame(park['시도'].value_counts(normalize=True))\n",
    "sido = do.merge(do_normalize, left_index=True, right_index=True).reset_index()\n",
    "\n",
    "sido.columns = ['시도', '합계', '비율']\n",
    "\n",
    "sido.sort_values(by=['합계'], ascending=False)"
   ]
  },
  {
   "cell_type": "code",
   "execution_count": null,
   "metadata": {},
   "outputs": [],
   "source": [
    "(ggplot(sido.sort_values(by=['합계'], ascending=False))\n",
    " + aes(x='시도', y='합계')\n",
    " + geom_bar(stat='identity', position='dodge', fill='green')\n",
    " + coord_flip()\n",
    " + theme(text=element_text(family='NanumBarunGothic'))\n",
    ")"
   ]
  },
  {
   "cell_type": "code",
   "execution_count": null,
   "metadata": {},
   "outputs": [],
   "source": [
    "park_type = park['공원구분'].value_counts().reset_index()\n",
    "park_type.columns = ['공원구분', '합계']\n",
    "park_type"
   ]
  },
  {
   "cell_type": "code",
   "execution_count": null,
   "metadata": {},
   "outputs": [],
   "source": [
    "(ggplot(park_type)\n",
    " + aes(x='공원구분', y='합계')\n",
    " + geom_bar(stat='identity', position='dodge', fill='green')\n",
    " + coord_flip()\n",
    " + theme(text=element_text(family='NanumBarunGothic'))\n",
    ")"
   ]
  },
  {
   "cell_type": "markdown",
   "metadata": {},
   "source": [
    "### 경기도"
   ]
  },
  {
   "cell_type": "code",
   "execution_count": null,
   "metadata": {},
   "outputs": [],
   "source": [
    "gg = park.loc[park['시도']=='경기도']\n",
    "gg.shape"
   ]
  },
  {
   "cell_type": "code",
   "execution_count": null,
   "metadata": {},
   "outputs": [],
   "source": [
    "gg_park = gg['공원구분'].value_counts().reset_index()\n",
    "gg_park.columns = ('공원구분', '합계')\n",
    "gg_park"
   ]
  },
  {
   "cell_type": "code",
   "execution_count": null,
   "metadata": {},
   "outputs": [],
   "source": [
    "(ggplot(gg)\n",
    " + aes(x='경도', y='위도', color='공원구분', size='공원면적비율')\n",
    " + geom_point()\n",
    " + geom_jitter(color='lightgray', alpha=0.5)\n",
    " + theme(text=element_text(family='NanumBarunGothic'))\n",
    ")"
   ]
  },
  {
   "cell_type": "code",
   "execution_count": null,
   "metadata": {},
   "outputs": [],
   "source": [
    "gg_suwon = gg.loc[gg['구군']=='수원시']\n",
    "(ggplot(gg_suwon)\n",
    " + aes(x='경도', y='위도', color='공원구분', size='공원면적비율')\n",
    " + geom_point()\n",
    " + geom_jitter(color='lightgray', alpha=0.5)\n",
    " + theme(text=element_text(family='NanumBarunGothic'))\n",
    ")"
   ]
  },
  {
   "cell_type": "code",
   "execution_count": null,
   "metadata": {},
   "outputs": [],
   "source": [
    "geo_df = gg_suwon\n",
    "map = folium.Map(location=[geo_df['위도'].mean(), geo_df['경도'].mean()], zoom_start=13)\n",
    "\n",
    "for n in geo_df.index:\n",
    "    park_name = geo_df.loc[n, '공원명'] + '-' + geo_df.loc[n, '소재지도로명주소']\n",
    "    icon_color = 'blue'\n",
    "    folium.CircleMarker(\n",
    "        location=[geo_df.loc[n, '위도'], geo_df.loc[n, '경도']],\n",
    "        radius=geo_df.loc[n, '공원면적비율'],\n",
    "        popup=park_name,\n",
    "        color=icon_color,\n",
    "        fill=True,\n",
    "        fill_color=icon_color\n",
    "    ).add_to(map)\n",
    "    \n",
    "map"
   ]
  },
  {
   "cell_type": "code",
   "execution_count": null,
   "metadata": {},
   "outputs": [],
   "source": [
    "park_type = r'.*((역사|체육|수변|문화|묘지)공원).*'"
   ]
  },
  {
   "cell_type": "code",
   "execution_count": null,
   "metadata": {},
   "outputs": [],
   "source": [
    "gg_sample = gg.loc[gg['공원구분'].str.match(park_type)]\n",
    "gg_sample.columns"
   ]
  },
  {
   "cell_type": "code",
   "execution_count": null,
   "metadata": {},
   "outputs": [],
   "source": [
    "(ggplot(gg_sample)\n",
    " + aes(x='위도', y='경도', color='공원구분', size='공원면적비율')\n",
    " + geom_point(alpha=0.5)\n",
    " + geom_jitter(color='lightgray', alpha=0.1)\n",
    " + theme(text=element_text(family='NanumBarunGothic'))\n",
    ")"
   ]
  },
  {
   "cell_type": "code",
   "execution_count": null,
   "metadata": {},
   "outputs": [],
   "source": [
    "geo_df = gg_sample"
   ]
  },
  {
   "cell_type": "code",
   "execution_count": null,
   "metadata": {},
   "outputs": [],
   "source": [
    "map = folium.Map(location=[geo_df['위도'].mean(), geo_df['경도'].mean()], zoom_start=11)\n",
    "\n",
    "for n in geo_df.index:\n",
    "    park_name = geo_df.loc[n, '공원명'] + '-' + geo_df.loc[n, '소재지도로명주소']\n",
    "    folium.Marker(\n",
    "        [geo_df.loc[n, '위도'], geo_df.loc[n, '경도']],\n",
    "        popup=park_name\n",
    "    ).add_to(map)"
   ]
  },
  {
   "cell_type": "code",
   "execution_count": null,
   "metadata": {},
   "outputs": [],
   "source": [
    "map"
   ]
  },
  {
   "cell_type": "markdown",
   "metadata": {},
   "source": [
    "### 서울특별시"
   ]
  },
  {
   "cell_type": "code",
   "execution_count": null,
   "metadata": {},
   "outputs": [],
   "source": [
    "seoul = park.loc[park['시도']=='서울특별시']\n",
    "seoul.shape"
   ]
  },
  {
   "cell_type": "code",
   "execution_count": null,
   "metadata": {},
   "outputs": [],
   "source": [
    "seoul.head(1)"
   ]
  },
  {
   "cell_type": "code",
   "execution_count": null,
   "metadata": {},
   "outputs": [],
   "source": [
    "#(ggplot(seoul[seoul['공원구분']=='어린이공원'])\n",
    "(ggplot(seoul)\n",
    " + aes(x='위도', y='경도', fill='공원구분')\n",
    " + geom_point()\n",
    " + theme(text=element_text(family='NanumBarunGothic'))\n",
    ")"
   ]
  },
  {
   "cell_type": "code",
   "execution_count": null,
   "metadata": {},
   "outputs": [],
   "source": [
    "seoul[seoul['위도'] < 37.4]"
   ]
  },
  {
   "cell_type": "code",
   "execution_count": null,
   "metadata": {},
   "outputs": [],
   "source": [
    "seoul['공원구분'].value_counts()"
   ]
  },
  {
   "cell_type": "code",
   "execution_count": null,
   "metadata": {},
   "outputs": [],
   "source": [
    "seoul_playground = park[(park['공원구분']=='어린이공원') & (park['시도']=='서울특별시')]"
   ]
  },
  {
   "cell_type": "code",
   "execution_count": null,
   "metadata": {},
   "outputs": [],
   "source": [
    "(ggplot(seoul)\n",
    " + aes(x='위도', y='경도', fill='구군')\n",
    " + geom_point()\n",
    " + theme(text=element_text(family='NanumBarunGothic'))\n",
    ")"
   ]
  },
  {
   "cell_type": "code",
   "execution_count": null,
   "metadata": {},
   "outputs": [],
   "source": [
    "geo_df = seoul\n",
    "map = folium.Map(location=[geo_df['위도'].mean(), geo_df['경도'].mean()], zoom_start=11)\n",
    "\n",
    "for n in geo_df.index:\n",
    "    park_name = geo_df.loc[n, '공원명'] + '-' + geo_df.loc[n, '소재지도로명주소']\n",
    "    folium.Marker(\n",
    "        [geo_df.loc[n, '위도'], geo_df.loc[n, '경도']],\n",
    "        popup=park_name\n",
    "    ).add_to(map)\n",
    "    \n",
    "map"
   ]
  },
  {
   "cell_type": "code",
   "execution_count": null,
   "metadata": {},
   "outputs": [],
   "source": []
  }
 ],
 "metadata": {
  "kernelspec": {
   "display_name": "Python 3",
   "language": "python",
   "name": "python3"
  },
  "language_info": {
   "codemirror_mode": {
    "name": "ipython",
    "version": 3
   },
   "file_extension": ".py",
   "mimetype": "text/x-python",
   "name": "python",
   "nbconvert_exporter": "python",
   "pygments_lexer": "ipython3",
   "version": "3.6.6rc1"
  }
 },
 "nbformat": 4,
 "nbformat_minor": 2
}
